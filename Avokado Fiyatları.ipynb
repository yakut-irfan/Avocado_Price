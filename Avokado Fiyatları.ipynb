{
 "cells": [
  {
   "cell_type": "markdown",
   "id": "2ecddefb",
   "metadata": {},
   "source": [
    "# Avokado Fiyatları\n",
    "Birden fazla ABD pazarındaki avokado fiyatları ve satış hacmine ilişkin geçmiş veriler"
   ]
  },
  {
   "cell_type": "markdown",
   "id": "2593aa0c",
   "metadata": {},
   "source": [
    "# Veri Kümesi Hakkında"
   ]
  },
  {
   "cell_type": "markdown",
   "id": "932cdb47",
   "metadata": {},
   "source": [
    "Millenials'ın Avokado Tostunu SEVDİĞİ iyi bilinen bir gerçektir. Y kuşağının tümünün ebeveynlerinin bodrum katında yaşadığı da iyi bilinen bir gerçektir.\n",
    "\n",
    "Açıkçası, çok fazla Avokado Tostu aldıkları için ev almıyorlar!\n",
    "\n",
    "Ama belki de umut vardır… Bir Y kuşağı ucuz avokado olan bir şehir bulabilirse, Y Kuşağı Amerikan Rüyasını yaşayabilir."
   ]
  },
  {
   "cell_type": "markdown",
   "id": "b3da714a",
   "metadata": {},
   "source": [
    "Veri kümesindeki bazı ilgili sütunlar:\n",
    "\n",
    "    Date- Gözlem tarihi\n",
    "    AveragePrice- tek bir avokadonun ortalama fiyatı\n",
    "    type- geleneksel veya organik\n",
    "    year- yıl\n",
    "    Region- gözlemin yapıldığı şehir veya bölge\n",
    "    Total Volume- Satılan toplam avokado sayısı\n",
    "    4046- Satılan PLU 4046 ile toplam avokado sayısı\n",
    "    4225- PLU 4225 ile satılan toplam avokado sayısı\n",
    "    4770- PLU 4770 ile satılan toplam avokado sayısı"
   ]
  },
  {
   "cell_type": "markdown",
   "id": "e10ee52f",
   "metadata": {},
   "source": [
    "Problem : \n",
    "    Y kuşağı hangi şehirlerde avokado tostu yiyebilir?"
   ]
  },
  {
   "cell_type": "markdown",
   "id": "4efe855c",
   "metadata": {},
   "source": [
    "# Kütüphanelerin Yüklenmesi"
   ]
  },
  {
   "cell_type": "code",
   "execution_count": 9,
   "id": "0871a3a1",
   "metadata": {},
   "outputs": [],
   "source": [
    "import warnings\n",
    "import pandas as pd\n",
    "import missingno as msno\n",
    "from sklearn.metrics import mean_squared_error, mean_absolute_error\n",
    "from sklearn.preprocessing import StandardScaler, RobustScaler\n",
    "from sklearn.metrics import mean_squared_error\n",
    "from sklearn.model_selection import train_test_split, GridSearchCV, cross_val_score\n",
    "\n",
    "# Tum Base Modeller\n",
    "\n",
    "from catboost import CatBoostRegressor\n",
    "from lightgbm import LGBMRegressor\n",
    "from sklearn.ensemble import RandomForestRegressor, GradientBoostingRegressor\n",
    "from sklearn.linear_model import LinearRegression, Ridge, Lasso, ElasticNet\n",
    "from sklearn.neighbors import KNeighborsRegressor\n",
    "from sklearn.svm import SVR\n",
    "from sklearn.tree import DecisionTreeRegressor\n",
    "from xgboost import XGBRegressor"
   ]
  },
  {
   "cell_type": "code",
   "execution_count": 10,
   "id": "ab0cfd57",
   "metadata": {},
   "outputs": [],
   "source": [
    "pd.set_option('display.max_columns', None)\n",
    "pd.set_option('display.width', 170)\n",
    "pd.set_option('display.max_rows', 20)\n",
    "pd.set_option('display.float_format', lambda x: '%.3f' % x)"
   ]
  },
  {
   "cell_type": "code",
   "execution_count": 12,
   "id": "2d63af8f",
   "metadata": {},
   "outputs": [],
   "source": [
    "from pandas.core.common import SettingWithCopyWarning\n",
    "from sklearn.exceptions import ConvergenceWarning"
   ]
  },
  {
   "cell_type": "code",
   "execution_count": 13,
   "id": "13c5ccb1",
   "metadata": {},
   "outputs": [],
   "source": [
    "warnings.simplefilter(action='ignore', category=FutureWarning)\n",
    "warnings.simplefilter(action=\"ignore\", category=ConvergenceWarning)\n",
    "warnings.simplefilter(action=\"ignore\", category=SettingWithCopyWarning)"
   ]
  },
  {
   "cell_type": "code",
   "execution_count": 179,
   "id": "e9c2545e",
   "metadata": {},
   "outputs": [],
   "source": [
    "df = pd.read_csv(\"avocado.csv\")"
   ]
  },
  {
   "cell_type": "code",
   "execution_count": 180,
   "id": "7281df2d",
   "metadata": {},
   "outputs": [
    {
     "data": {
      "text/html": [
       "<div>\n",
       "<style scoped>\n",
       "    .dataframe tbody tr th:only-of-type {\n",
       "        vertical-align: middle;\n",
       "    }\n",
       "\n",
       "    .dataframe tbody tr th {\n",
       "        vertical-align: top;\n",
       "    }\n",
       "\n",
       "    .dataframe thead th {\n",
       "        text-align: right;\n",
       "    }\n",
       "</style>\n",
       "<table border=\"1\" class=\"dataframe\">\n",
       "  <thead>\n",
       "    <tr style=\"text-align: right;\">\n",
       "      <th></th>\n",
       "      <th>Unnamed: 0</th>\n",
       "      <th>Date</th>\n",
       "      <th>AveragePrice</th>\n",
       "      <th>Total Volume</th>\n",
       "      <th>4046</th>\n",
       "      <th>4225</th>\n",
       "      <th>4770</th>\n",
       "      <th>Total Bags</th>\n",
       "      <th>Small Bags</th>\n",
       "      <th>Large Bags</th>\n",
       "      <th>XLarge Bags</th>\n",
       "      <th>type</th>\n",
       "      <th>year</th>\n",
       "      <th>region</th>\n",
       "    </tr>\n",
       "  </thead>\n",
       "  <tbody>\n",
       "    <tr>\n",
       "      <th>0</th>\n",
       "      <td>0</td>\n",
       "      <td>2015-12-27</td>\n",
       "      <td>1.330</td>\n",
       "      <td>64236.620</td>\n",
       "      <td>1036.740</td>\n",
       "      <td>54454.850</td>\n",
       "      <td>48.160</td>\n",
       "      <td>8696.870</td>\n",
       "      <td>8603.620</td>\n",
       "      <td>93.250</td>\n",
       "      <td>0.000</td>\n",
       "      <td>conventional</td>\n",
       "      <td>2015</td>\n",
       "      <td>Albany</td>\n",
       "    </tr>\n",
       "    <tr>\n",
       "      <th>1</th>\n",
       "      <td>1</td>\n",
       "      <td>2015-12-20</td>\n",
       "      <td>1.350</td>\n",
       "      <td>54876.980</td>\n",
       "      <td>674.280</td>\n",
       "      <td>44638.810</td>\n",
       "      <td>58.330</td>\n",
       "      <td>9505.560</td>\n",
       "      <td>9408.070</td>\n",
       "      <td>97.490</td>\n",
       "      <td>0.000</td>\n",
       "      <td>conventional</td>\n",
       "      <td>2015</td>\n",
       "      <td>Albany</td>\n",
       "    </tr>\n",
       "    <tr>\n",
       "      <th>2</th>\n",
       "      <td>2</td>\n",
       "      <td>2015-12-13</td>\n",
       "      <td>0.930</td>\n",
       "      <td>118220.220</td>\n",
       "      <td>794.700</td>\n",
       "      <td>109149.670</td>\n",
       "      <td>130.500</td>\n",
       "      <td>8145.350</td>\n",
       "      <td>8042.210</td>\n",
       "      <td>103.140</td>\n",
       "      <td>0.000</td>\n",
       "      <td>conventional</td>\n",
       "      <td>2015</td>\n",
       "      <td>Albany</td>\n",
       "    </tr>\n",
       "    <tr>\n",
       "      <th>3</th>\n",
       "      <td>3</td>\n",
       "      <td>2015-12-06</td>\n",
       "      <td>1.080</td>\n",
       "      <td>78992.150</td>\n",
       "      <td>1132.000</td>\n",
       "      <td>71976.410</td>\n",
       "      <td>72.580</td>\n",
       "      <td>5811.160</td>\n",
       "      <td>5677.400</td>\n",
       "      <td>133.760</td>\n",
       "      <td>0.000</td>\n",
       "      <td>conventional</td>\n",
       "      <td>2015</td>\n",
       "      <td>Albany</td>\n",
       "    </tr>\n",
       "    <tr>\n",
       "      <th>4</th>\n",
       "      <td>4</td>\n",
       "      <td>2015-11-29</td>\n",
       "      <td>1.280</td>\n",
       "      <td>51039.600</td>\n",
       "      <td>941.480</td>\n",
       "      <td>43838.390</td>\n",
       "      <td>75.780</td>\n",
       "      <td>6183.950</td>\n",
       "      <td>5986.260</td>\n",
       "      <td>197.690</td>\n",
       "      <td>0.000</td>\n",
       "      <td>conventional</td>\n",
       "      <td>2015</td>\n",
       "      <td>Albany</td>\n",
       "    </tr>\n",
       "  </tbody>\n",
       "</table>\n",
       "</div>"
      ],
      "text/plain": [
       "   Unnamed: 0        Date  AveragePrice  Total Volume     4046       4225    4770  Total Bags  Small Bags  Large Bags  XLarge Bags          type  year  region\n",
       "0           0  2015-12-27         1.330     64236.620 1036.740  54454.850  48.160    8696.870    8603.620      93.250        0.000  conventional  2015  Albany\n",
       "1           1  2015-12-20         1.350     54876.980  674.280  44638.810  58.330    9505.560    9408.070      97.490        0.000  conventional  2015  Albany\n",
       "2           2  2015-12-13         0.930    118220.220  794.700 109149.670 130.500    8145.350    8042.210     103.140        0.000  conventional  2015  Albany\n",
       "3           3  2015-12-06         1.080     78992.150 1132.000  71976.410  72.580    5811.160    5677.400     133.760        0.000  conventional  2015  Albany\n",
       "4           4  2015-11-29         1.280     51039.600  941.480  43838.390  75.780    6183.950    5986.260     197.690        0.000  conventional  2015  Albany"
      ]
     },
     "execution_count": 180,
     "metadata": {},
     "output_type": "execute_result"
    }
   ],
   "source": [
    "df.head()"
   ]
  },
  {
   "cell_type": "markdown",
   "id": "044d0a7e",
   "metadata": {},
   "source": [
    "Unnamed: sütunu zaten indexleri içeriyor. Şu an için ihtiyacımız yok o açıdan kaldırıyorum."
   ]
  },
  {
   "cell_type": "code",
   "execution_count": 181,
   "id": "319f8d2e",
   "metadata": {},
   "outputs": [],
   "source": [
    "df.drop(df.columns[0] , axis = 1 , inplace = True)\n",
    "df = df[df.region != \"TotalUS\"]\n",
    "df['Date'] = pd.to_datetime(df['Date']).dt.to_period('m')"
   ]
  },
  {
   "cell_type": "code",
   "execution_count": 182,
   "id": "e1c9bb70",
   "metadata": {},
   "outputs": [
    {
     "data": {
      "text/html": [
       "<div>\n",
       "<style scoped>\n",
       "    .dataframe tbody tr th:only-of-type {\n",
       "        vertical-align: middle;\n",
       "    }\n",
       "\n",
       "    .dataframe tbody tr th {\n",
       "        vertical-align: top;\n",
       "    }\n",
       "\n",
       "    .dataframe thead th {\n",
       "        text-align: right;\n",
       "    }\n",
       "</style>\n",
       "<table border=\"1\" class=\"dataframe\">\n",
       "  <thead>\n",
       "    <tr style=\"text-align: right;\">\n",
       "      <th></th>\n",
       "      <th>Date</th>\n",
       "      <th>AveragePrice</th>\n",
       "      <th>Total Volume</th>\n",
       "      <th>4046</th>\n",
       "      <th>4225</th>\n",
       "      <th>4770</th>\n",
       "      <th>Total Bags</th>\n",
       "      <th>Small Bags</th>\n",
       "      <th>Large Bags</th>\n",
       "      <th>XLarge Bags</th>\n",
       "      <th>type</th>\n",
       "      <th>year</th>\n",
       "      <th>region</th>\n",
       "    </tr>\n",
       "  </thead>\n",
       "  <tbody>\n",
       "    <tr>\n",
       "      <th>0</th>\n",
       "      <td>2015-12</td>\n",
       "      <td>1.330</td>\n",
       "      <td>64236.620</td>\n",
       "      <td>1036.740</td>\n",
       "      <td>54454.850</td>\n",
       "      <td>48.160</td>\n",
       "      <td>8696.870</td>\n",
       "      <td>8603.620</td>\n",
       "      <td>93.250</td>\n",
       "      <td>0.000</td>\n",
       "      <td>conventional</td>\n",
       "      <td>2015</td>\n",
       "      <td>Albany</td>\n",
       "    </tr>\n",
       "    <tr>\n",
       "      <th>1</th>\n",
       "      <td>2015-12</td>\n",
       "      <td>1.350</td>\n",
       "      <td>54876.980</td>\n",
       "      <td>674.280</td>\n",
       "      <td>44638.810</td>\n",
       "      <td>58.330</td>\n",
       "      <td>9505.560</td>\n",
       "      <td>9408.070</td>\n",
       "      <td>97.490</td>\n",
       "      <td>0.000</td>\n",
       "      <td>conventional</td>\n",
       "      <td>2015</td>\n",
       "      <td>Albany</td>\n",
       "    </tr>\n",
       "    <tr>\n",
       "      <th>2</th>\n",
       "      <td>2015-12</td>\n",
       "      <td>0.930</td>\n",
       "      <td>118220.220</td>\n",
       "      <td>794.700</td>\n",
       "      <td>109149.670</td>\n",
       "      <td>130.500</td>\n",
       "      <td>8145.350</td>\n",
       "      <td>8042.210</td>\n",
       "      <td>103.140</td>\n",
       "      <td>0.000</td>\n",
       "      <td>conventional</td>\n",
       "      <td>2015</td>\n",
       "      <td>Albany</td>\n",
       "    </tr>\n",
       "    <tr>\n",
       "      <th>3</th>\n",
       "      <td>2015-12</td>\n",
       "      <td>1.080</td>\n",
       "      <td>78992.150</td>\n",
       "      <td>1132.000</td>\n",
       "      <td>71976.410</td>\n",
       "      <td>72.580</td>\n",
       "      <td>5811.160</td>\n",
       "      <td>5677.400</td>\n",
       "      <td>133.760</td>\n",
       "      <td>0.000</td>\n",
       "      <td>conventional</td>\n",
       "      <td>2015</td>\n",
       "      <td>Albany</td>\n",
       "    </tr>\n",
       "    <tr>\n",
       "      <th>4</th>\n",
       "      <td>2015-11</td>\n",
       "      <td>1.280</td>\n",
       "      <td>51039.600</td>\n",
       "      <td>941.480</td>\n",
       "      <td>43838.390</td>\n",
       "      <td>75.780</td>\n",
       "      <td>6183.950</td>\n",
       "      <td>5986.260</td>\n",
       "      <td>197.690</td>\n",
       "      <td>0.000</td>\n",
       "      <td>conventional</td>\n",
       "      <td>2015</td>\n",
       "      <td>Albany</td>\n",
       "    </tr>\n",
       "  </tbody>\n",
       "</table>\n",
       "</div>"
      ],
      "text/plain": [
       "      Date  AveragePrice  Total Volume     4046       4225    4770  Total Bags  Small Bags  Large Bags  XLarge Bags          type  year  region\n",
       "0  2015-12         1.330     64236.620 1036.740  54454.850  48.160    8696.870    8603.620      93.250        0.000  conventional  2015  Albany\n",
       "1  2015-12         1.350     54876.980  674.280  44638.810  58.330    9505.560    9408.070      97.490        0.000  conventional  2015  Albany\n",
       "2  2015-12         0.930    118220.220  794.700 109149.670 130.500    8145.350    8042.210     103.140        0.000  conventional  2015  Albany\n",
       "3  2015-12         1.080     78992.150 1132.000  71976.410  72.580    5811.160    5677.400     133.760        0.000  conventional  2015  Albany\n",
       "4  2015-11         1.280     51039.600  941.480  43838.390  75.780    6183.950    5986.260     197.690        0.000  conventional  2015  Albany"
      ]
     },
     "execution_count": 182,
     "metadata": {},
     "output_type": "execute_result"
    }
   ],
   "source": [
    "df.head()"
   ]
  },
  {
   "cell_type": "markdown",
   "id": "b8d5ff0b",
   "metadata": {},
   "source": [
    "# EDA ANALIZI"
   ]
  },
  {
   "cell_type": "code",
   "execution_count": 183,
   "id": "362b095b",
   "metadata": {},
   "outputs": [],
   "source": [
    "def check_df(dataframe, head=5):\n",
    "    print(\"##################### Shape #####################\")\n",
    "    print(dataframe.shape)\n",
    "    print(\"##################### Types #####################\")\n",
    "    print(dataframe.dtypes)\n",
    "    print(\"##################### Head #####################\")\n",
    "    print(dataframe.head(head))\n",
    "    print(\"##################### Tail #####################\")\n",
    "    print(dataframe.tail(head))\n",
    "    print(\"##################### NA #####################\")\n",
    "    print(dataframe.isnull().sum())\n",
    "    print(\"##################### Quantiles #####################\")\n",
    "    print(dataframe.quantile([0, 0.05, 0.50, 0.95, 0.99, 1]).T)"
   ]
  },
  {
   "cell_type": "code",
   "execution_count": 184,
   "id": "5927828f",
   "metadata": {},
   "outputs": [
    {
     "data": {
      "text/html": [
       "<div>\n",
       "<style scoped>\n",
       "    .dataframe tbody tr th:only-of-type {\n",
       "        vertical-align: middle;\n",
       "    }\n",
       "\n",
       "    .dataframe tbody tr th {\n",
       "        vertical-align: top;\n",
       "    }\n",
       "\n",
       "    .dataframe thead th {\n",
       "        text-align: right;\n",
       "    }\n",
       "</style>\n",
       "<table border=\"1\" class=\"dataframe\">\n",
       "  <thead>\n",
       "    <tr style=\"text-align: right;\">\n",
       "      <th></th>\n",
       "      <th>AveragePrice</th>\n",
       "      <th>Total Volume</th>\n",
       "      <th>4046</th>\n",
       "      <th>4225</th>\n",
       "      <th>4770</th>\n",
       "      <th>Total Bags</th>\n",
       "      <th>Small Bags</th>\n",
       "      <th>Large Bags</th>\n",
       "      <th>XLarge Bags</th>\n",
       "      <th>year</th>\n",
       "    </tr>\n",
       "  </thead>\n",
       "  <tbody>\n",
       "    <tr>\n",
       "      <th>count</th>\n",
       "      <td>17911.000</td>\n",
       "      <td>17911.000</td>\n",
       "      <td>17911.000</td>\n",
       "      <td>17911.000</td>\n",
       "      <td>17911.000</td>\n",
       "      <td>17911.000</td>\n",
       "      <td>17911.000</td>\n",
       "      <td>17911.000</td>\n",
       "      <td>17911.000</td>\n",
       "      <td>17911.000</td>\n",
       "    </tr>\n",
       "    <tr>\n",
       "      <th>mean</th>\n",
       "      <td>1.408</td>\n",
       "      <td>539258.691</td>\n",
       "      <td>183807.409</td>\n",
       "      <td>188223.112</td>\n",
       "      <td>14551.234</td>\n",
       "      <td>152675.731</td>\n",
       "      <td>116202.869</td>\n",
       "      <td>34505.694</td>\n",
       "      <td>1967.168</td>\n",
       "      <td>2016.148</td>\n",
       "    </tr>\n",
       "    <tr>\n",
       "      <th>std</th>\n",
       "      <td>0.404</td>\n",
       "      <td>1224331.914</td>\n",
       "      <td>515105.861</td>\n",
       "      <td>451985.648</td>\n",
       "      <td>48817.537</td>\n",
       "      <td>364599.231</td>\n",
       "      <td>278759.604</td>\n",
       "      <td>113947.739</td>\n",
       "      <td>8186.402</td>\n",
       "      <td>0.940</td>\n",
       "    </tr>\n",
       "    <tr>\n",
       "      <th>min</th>\n",
       "      <td>0.440</td>\n",
       "      <td>84.560</td>\n",
       "      <td>0.000</td>\n",
       "      <td>0.000</td>\n",
       "      <td>0.000</td>\n",
       "      <td>0.000</td>\n",
       "      <td>0.000</td>\n",
       "      <td>0.000</td>\n",
       "      <td>0.000</td>\n",
       "      <td>2015.000</td>\n",
       "    </tr>\n",
       "    <tr>\n",
       "      <th>25%</th>\n",
       "      <td>1.100</td>\n",
       "      <td>10571.020</td>\n",
       "      <td>819.660</td>\n",
       "      <td>2909.610</td>\n",
       "      <td>0.000</td>\n",
       "      <td>4905.195</td>\n",
       "      <td>2700.335</td>\n",
       "      <td>112.995</td>\n",
       "      <td>0.000</td>\n",
       "      <td>2015.000</td>\n",
       "    </tr>\n",
       "    <tr>\n",
       "      <th>50%</th>\n",
       "      <td>1.370</td>\n",
       "      <td>100154.130</td>\n",
       "      <td>7824.430</td>\n",
       "      <td>26701.990</td>\n",
       "      <td>164.230</td>\n",
       "      <td>37551.020</td>\n",
       "      <td>24530.620</td>\n",
       "      <td>2459.220</td>\n",
       "      <td>0.000</td>\n",
       "      <td>2016.000</td>\n",
       "    </tr>\n",
       "    <tr>\n",
       "      <th>75%</th>\n",
       "      <td>1.670</td>\n",
       "      <td>400176.680</td>\n",
       "      <td>101488.815</td>\n",
       "      <td>131755.215</td>\n",
       "      <td>5736.735</td>\n",
       "      <td>103691.600</td>\n",
       "      <td>79282.590</td>\n",
       "      <td>19421.705</td>\n",
       "      <td>106.760</td>\n",
       "      <td>2017.000</td>\n",
       "    </tr>\n",
       "    <tr>\n",
       "      <th>max</th>\n",
       "      <td>3.250</td>\n",
       "      <td>11274749.110</td>\n",
       "      <td>5160896.680</td>\n",
       "      <td>5402444.450</td>\n",
       "      <td>804558.250</td>\n",
       "      <td>4145406.700</td>\n",
       "      <td>3403581.490</td>\n",
       "      <td>2838239.390</td>\n",
       "      <td>131300.760</td>\n",
       "      <td>2018.000</td>\n",
       "    </tr>\n",
       "  </tbody>\n",
       "</table>\n",
       "</div>"
      ],
      "text/plain": [
       "       AveragePrice  Total Volume        4046        4225       4770  Total Bags  Small Bags  Large Bags  XLarge Bags      year\n",
       "count     17911.000     17911.000   17911.000   17911.000  17911.000   17911.000   17911.000   17911.000    17911.000 17911.000\n",
       "mean          1.408    539258.691  183807.409  188223.112  14551.234  152675.731  116202.869   34505.694     1967.168  2016.148\n",
       "std           0.404   1224331.914  515105.861  451985.648  48817.537  364599.231  278759.604  113947.739     8186.402     0.940\n",
       "min           0.440        84.560       0.000       0.000      0.000       0.000       0.000       0.000        0.000  2015.000\n",
       "25%           1.100     10571.020     819.660    2909.610      0.000    4905.195    2700.335     112.995        0.000  2015.000\n",
       "50%           1.370    100154.130    7824.430   26701.990    164.230   37551.020   24530.620    2459.220        0.000  2016.000\n",
       "75%           1.670    400176.680  101488.815  131755.215   5736.735  103691.600   79282.590   19421.705      106.760  2017.000\n",
       "max           3.250  11274749.110 5160896.680 5402444.450 804558.250 4145406.700 3403581.490 2838239.390   131300.760  2018.000"
      ]
     },
     "execution_count": 184,
     "metadata": {},
     "output_type": "execute_result"
    }
   ],
   "source": [
    "df.describe()"
   ]
  },
  {
   "cell_type": "code",
   "execution_count": 185,
   "id": "d5e5a8cf",
   "metadata": {},
   "outputs": [
    {
     "name": "stdout",
     "output_type": "stream",
     "text": [
      "##################### Shape #####################\n",
      "(17911, 13)\n",
      "##################### Types #####################\n",
      "Date            period[M]\n",
      "AveragePrice      float64\n",
      "Total Volume      float64\n",
      "4046              float64\n",
      "4225              float64\n",
      "4770              float64\n",
      "Total Bags        float64\n",
      "Small Bags        float64\n",
      "Large Bags        float64\n",
      "XLarge Bags       float64\n",
      "type               object\n",
      "year                int64\n",
      "region             object\n",
      "dtype: object\n",
      "##################### Head #####################\n",
      "      Date  AveragePrice  Total Volume     4046       4225    4770  Total Bags  Small Bags  Large Bags  XLarge Bags          type  year  region\n",
      "0  2015-12         1.330     64236.620 1036.740  54454.850  48.160    8696.870    8603.620      93.250        0.000  conventional  2015  Albany\n",
      "1  2015-12         1.350     54876.980  674.280  44638.810  58.330    9505.560    9408.070      97.490        0.000  conventional  2015  Albany\n",
      "2  2015-12         0.930    118220.220  794.700 109149.670 130.500    8145.350    8042.210     103.140        0.000  conventional  2015  Albany\n",
      "3  2015-12         1.080     78992.150 1132.000  71976.410  72.580    5811.160    5677.400     133.760        0.000  conventional  2015  Albany\n",
      "4  2015-11         1.280     51039.600  941.480  43838.390  75.780    6183.950    5986.260     197.690        0.000  conventional  2015  Albany\n",
      "##################### Tail #####################\n",
      "          Date  AveragePrice  Total Volume     4046     4225    4770  Total Bags  Small Bags  Large Bags  XLarge Bags     type  year            region\n",
      "18244  2018-02         1.630     17074.830 2046.960 1529.200   0.000   13498.670   13066.820     431.850        0.000  organic  2018  WestTexNewMexico\n",
      "18245  2018-01         1.710     13888.040 1191.700 3431.500   0.000    9264.840    8940.040     324.800        0.000  organic  2018  WestTexNewMexico\n",
      "18246  2018-01         1.870     13766.760 1191.920 2452.790 727.940    9394.110    9351.800      42.310        0.000  organic  2018  WestTexNewMexico\n",
      "18247  2018-01         1.930     16205.220 1527.630 2981.040 727.010   10969.540   10919.540      50.000        0.000  organic  2018  WestTexNewMexico\n",
      "18248  2018-01         1.620     17489.580 2894.770 2356.130 224.530   12014.150   11988.140      26.010        0.000  organic  2018  WestTexNewMexico\n",
      "##################### NA #####################\n",
      "Date            0\n",
      "AveragePrice    0\n",
      "Total Volume    0\n",
      "4046            0\n",
      "4225            0\n",
      "4770            0\n",
      "Total Bags      0\n",
      "Small Bags      0\n",
      "Large Bags      0\n",
      "XLarge Bags     0\n",
      "type            0\n",
      "year            0\n",
      "region          0\n",
      "dtype: int64\n",
      "##################### Quantiles #####################\n",
      "                0.000    0.050      0.500       0.950       0.990        1.000\n",
      "AveragePrice    0.440    0.830      1.370       2.120       2.550        3.250\n",
      "Total Volume   84.560 2326.990 100154.130 3276503.195 6380180.922 11274749.110\n",
      "4046            0.000   19.020   7824.430  950685.565 2862473.813  5160896.680\n",
      "4225            0.000  101.560  26701.990 1133141.845 2322220.196  5402444.450\n",
      "4770            0.000    0.000    164.230   91311.310  253888.383   804558.250\n",
      "Total Bags      0.000  618.660  37551.020  864863.895 1923778.397  4145406.700\n",
      "Small Bags      0.000  248.110  24530.620  678614.725 1464898.698  3403581.490\n",
      "Large Bags      0.000    0.000   2459.220  160076.040  550089.676  2838239.390\n",
      "XLarge Bags     0.000    0.000      0.000    9802.405   46598.001   131300.760\n",
      "year         2015.000 2015.000   2016.000    2018.000    2018.000     2018.000\n"
     ]
    }
   ],
   "source": [
    "check_df(df)"
   ]
  },
  {
   "cell_type": "markdown",
   "id": "d12c1a2b",
   "metadata": {},
   "source": [
    "Güzel haber! NA değerimiz yok."
   ]
  },
  {
   "cell_type": "code",
   "execution_count": 186,
   "id": "163f9909",
   "metadata": {},
   "outputs": [],
   "source": [
    "import seaborn as sns\n",
    "import matplotlib.pyplot as plt"
   ]
  },
  {
   "cell_type": "code",
   "execution_count": 187,
   "id": "dea1329c",
   "metadata": {},
   "outputs": [],
   "source": [
    "def grab_col_names(dataframe, cat_th=10, car_th=20):\n",
    "    \"\"\"\n",
    "\n",
    "    Veri setindeki kategorik, numerik ve kategorik fakat kardinal değişkenlerin isimlerini verir.\n",
    "    Not: Kategorik değişkenlerin içerisine numerik görünümlü kategorik değişkenler de dahildir.\n",
    "\n",
    "    Parameters\n",
    "    ------\n",
    "        dataframe: dataframe\n",
    "                Değişken isimleri alınmak istenilen dataframe\n",
    "        cat_th: int, optional\n",
    "                numerik fakat kategorik olan değişkenler için sınıf eşik değeri\n",
    "        car_th: int, optinal\n",
    "                kategorik fakat kardinal değişkenler için sınıf eşik değeri\n",
    "\n",
    "    Returns\n",
    "    ------\n",
    "        cat_cols: list\n",
    "                Kategorik değişken listesi\n",
    "        num_cols: list\n",
    "                Numerik değişken listesi\n",
    "        cat_but_car: list\n",
    "                Kategorik görünümlü kardinal değişken listesi\n",
    "\n",
    "    Examples\n",
    "    ------\n",
    "        import seaborn as sns\n",
    "        df = sns.load_dataset(\"iris\")\n",
    "        print(grab_col_names(df))\n",
    "\n",
    "\n",
    "    Notes\n",
    "    ------\n",
    "        cat_cols + num_cols + cat_but_car = toplam değişken sayısı\n",
    "        num_but_cat cat_cols'un içerisinde.\n",
    "        Return olan 3 liste toplamı toplam değişken sayısına eşittir: cat_cols + num_cols + cat_but_car = değişken sayısı\n",
    "\n",
    "    \"\"\"\n",
    "\n",
    "\n",
    "    # cat_cols, cat_but_car\n",
    "    cat_cols = [col for col in dataframe.columns if dataframe[col].dtypes == \"O\"]\n",
    "    num_but_cat = [col for col in dataframe.columns if dataframe[col].nunique() < cat_th and\n",
    "                   dataframe[col].dtypes != \"O\"]\n",
    "    cat_but_car = [col for col in dataframe.columns if dataframe[col].nunique() > car_th and\n",
    "                   dataframe[col].dtypes == \"O\"]\n",
    "    cat_cols = cat_cols + num_but_cat\n",
    "    cat_cols = [col for col in cat_cols if col not in cat_but_car]\n",
    "\n",
    "    # num_cols\n",
    "    num_cols = [col for col in dataframe.columns if dataframe[col].dtypes != \"O\"]\n",
    "    num_cols = [col for col in num_cols if col not in num_but_cat]\n",
    "\n",
    "    print(f\"Observations: {dataframe.shape[0]}\")\n",
    "    print(f\"Variables: {dataframe.shape[1]}\")\n",
    "    print(f'cat_cols: {len(cat_cols)}')\n",
    "    print(f'num_cols: {len(num_cols)}')\n",
    "    print(f'cat_but_car: {len(cat_but_car)}')\n",
    "    print(f'num_but_cat: {len(num_but_cat)}')\n",
    "    return cat_cols, num_cols, cat_but_car"
   ]
  },
  {
   "cell_type": "code",
   "execution_count": 188,
   "id": "87b1c090",
   "metadata": {},
   "outputs": [
    {
     "name": "stdout",
     "output_type": "stream",
     "text": [
      "Observations: 17911\n",
      "Variables: 13\n",
      "cat_cols: 2\n",
      "num_cols: 10\n",
      "cat_but_car: 1\n",
      "num_but_cat: 1\n"
     ]
    }
   ],
   "source": [
    "cat_cols, num_cols, cat_but_car = grab_col_names(df)"
   ]
  },
  {
   "cell_type": "markdown",
   "id": "b08796f0",
   "metadata": {},
   "source": [
    "    Kategorik Değişkenler : type, year\n",
    "    Numerik Değişkenler: 'AveragePrice','Total Volume','4046','4225','4770','Total Bags','Small Bags','Large Bags','XLarge Bags','Date', \n",
    "    Kardinal Değişkenler: 'region'"
   ]
  },
  {
   "cell_type": "markdown",
   "id": "7bda8127",
   "metadata": {},
   "source": [
    "Kategorik Değişkenlerin Analizi"
   ]
  },
  {
   "cell_type": "code",
   "execution_count": 189,
   "id": "10f196ae",
   "metadata": {},
   "outputs": [],
   "source": [
    "def cat_summary(dataframe, col_name, plot=False):\n",
    "    print(pd.DataFrame({col_name: dataframe[col_name].value_counts(),\n",
    "                        \"Ratio\": 100 * dataframe[col_name].value_counts() / len(dataframe)}))\n",
    "    print(\"##########################################\")\n",
    "    if plot:\n",
    "        sns.countplot(x=dataframe[col_name], data=dataframe)\n",
    "        plt.show()"
   ]
  },
  {
   "cell_type": "code",
   "execution_count": 190,
   "id": "b1b36083",
   "metadata": {},
   "outputs": [
    {
     "name": "stdout",
     "output_type": "stream",
     "text": [
      "              type  Ratio\n",
      "conventional  8957 50.008\n",
      "organic       8954 49.992\n",
      "##########################################\n"
     ]
    }
   ],
   "source": [
    "cat_summary(df, \"type\")"
   ]
  },
  {
   "cell_type": "code",
   "execution_count": 191,
   "id": "b34ae39d",
   "metadata": {},
   "outputs": [
    {
     "name": "stdout",
     "output_type": "stream",
     "text": [
      "      year  Ratio\n",
      "2017  5616 31.355\n",
      "2016  5512 30.774\n",
      "2015  5511 30.769\n",
      "2018  1272  7.102\n",
      "##########################################\n"
     ]
    }
   ],
   "source": [
    "cat_summary(df, \"year\")"
   ]
  },
  {
   "cell_type": "markdown",
   "id": "f67e93a6",
   "metadata": {},
   "source": [
    "KORELASYON"
   ]
  },
  {
   "cell_type": "code",
   "execution_count": 192,
   "id": "fff53e8e",
   "metadata": {},
   "outputs": [
    {
     "data": {
      "text/html": [
       "<div>\n",
       "<style scoped>\n",
       "    .dataframe tbody tr th:only-of-type {\n",
       "        vertical-align: middle;\n",
       "    }\n",
       "\n",
       "    .dataframe tbody tr th {\n",
       "        vertical-align: top;\n",
       "    }\n",
       "\n",
       "    .dataframe thead th {\n",
       "        text-align: right;\n",
       "    }\n",
       "</style>\n",
       "<table border=\"1\" class=\"dataframe\">\n",
       "  <thead>\n",
       "    <tr style=\"text-align: right;\">\n",
       "      <th></th>\n",
       "      <th>AveragePrice</th>\n",
       "      <th>Total Volume</th>\n",
       "      <th>4046</th>\n",
       "      <th>4225</th>\n",
       "      <th>4770</th>\n",
       "      <th>Total Bags</th>\n",
       "      <th>Small Bags</th>\n",
       "      <th>Large Bags</th>\n",
       "      <th>XLarge Bags</th>\n",
       "      <th>year</th>\n",
       "    </tr>\n",
       "  </thead>\n",
       "  <tbody>\n",
       "    <tr>\n",
       "      <th>AveragePrice</th>\n",
       "      <td>1.000</td>\n",
       "      <td>-0.344</td>\n",
       "      <td>-0.342</td>\n",
       "      <td>-0.268</td>\n",
       "      <td>-0.241</td>\n",
       "      <td>-0.308</td>\n",
       "      <td>-0.296</td>\n",
       "      <td>-0.249</td>\n",
       "      <td>-0.154</td>\n",
       "      <td>0.092</td>\n",
       "    </tr>\n",
       "    <tr>\n",
       "      <th>Total Volume</th>\n",
       "      <td>-0.344</td>\n",
       "      <td>1.000</td>\n",
       "      <td>0.895</td>\n",
       "      <td>0.873</td>\n",
       "      <td>0.649</td>\n",
       "      <td>0.925</td>\n",
       "      <td>0.921</td>\n",
       "      <td>0.668</td>\n",
       "      <td>0.538</td>\n",
       "      <td>0.031</td>\n",
       "    </tr>\n",
       "    <tr>\n",
       "      <th>4046</th>\n",
       "      <td>-0.342</td>\n",
       "      <td>0.895</td>\n",
       "      <td>1.000</td>\n",
       "      <td>0.603</td>\n",
       "      <td>0.509</td>\n",
       "      <td>0.776</td>\n",
       "      <td>0.762</td>\n",
       "      <td>0.590</td>\n",
       "      <td>0.436</td>\n",
       "      <td>0.004</td>\n",
       "    </tr>\n",
       "    <tr>\n",
       "      <th>4225</th>\n",
       "      <td>-0.268</td>\n",
       "      <td>0.873</td>\n",
       "      <td>0.603</td>\n",
       "      <td>1.000</td>\n",
       "      <td>0.623</td>\n",
       "      <td>0.754</td>\n",
       "      <td>0.783</td>\n",
       "      <td>0.466</td>\n",
       "      <td>0.450</td>\n",
       "      <td>-0.015</td>\n",
       "    </tr>\n",
       "    <tr>\n",
       "      <th>4770</th>\n",
       "      <td>-0.241</td>\n",
       "      <td>0.649</td>\n",
       "      <td>0.509</td>\n",
       "      <td>0.623</td>\n",
       "      <td>1.000</td>\n",
       "      <td>0.553</td>\n",
       "      <td>0.566</td>\n",
       "      <td>0.343</td>\n",
       "      <td>0.588</td>\n",
       "      <td>-0.050</td>\n",
       "    </tr>\n",
       "    <tr>\n",
       "      <th>Total Bags</th>\n",
       "      <td>-0.308</td>\n",
       "      <td>0.925</td>\n",
       "      <td>0.776</td>\n",
       "      <td>0.754</td>\n",
       "      <td>0.553</td>\n",
       "      <td>1.000</td>\n",
       "      <td>0.970</td>\n",
       "      <td>0.788</td>\n",
       "      <td>0.555</td>\n",
       "      <td>0.123</td>\n",
       "    </tr>\n",
       "    <tr>\n",
       "      <th>Small Bags</th>\n",
       "      <td>-0.296</td>\n",
       "      <td>0.921</td>\n",
       "      <td>0.762</td>\n",
       "      <td>0.783</td>\n",
       "      <td>0.566</td>\n",
       "      <td>0.970</td>\n",
       "      <td>1.000</td>\n",
       "      <td>0.614</td>\n",
       "      <td>0.587</td>\n",
       "      <td>0.109</td>\n",
       "    </tr>\n",
       "    <tr>\n",
       "      <th>Large Bags</th>\n",
       "      <td>-0.249</td>\n",
       "      <td>0.668</td>\n",
       "      <td>0.590</td>\n",
       "      <td>0.466</td>\n",
       "      <td>0.343</td>\n",
       "      <td>0.788</td>\n",
       "      <td>0.614</td>\n",
       "      <td>1.000</td>\n",
       "      <td>0.267</td>\n",
       "      <td>0.119</td>\n",
       "    </tr>\n",
       "    <tr>\n",
       "      <th>XLarge Bags</th>\n",
       "      <td>-0.154</td>\n",
       "      <td>0.538</td>\n",
       "      <td>0.436</td>\n",
       "      <td>0.450</td>\n",
       "      <td>0.588</td>\n",
       "      <td>0.555</td>\n",
       "      <td>0.587</td>\n",
       "      <td>0.267</td>\n",
       "      <td>1.000</td>\n",
       "      <td>0.110</td>\n",
       "    </tr>\n",
       "    <tr>\n",
       "      <th>year</th>\n",
       "      <td>0.092</td>\n",
       "      <td>0.031</td>\n",
       "      <td>0.004</td>\n",
       "      <td>-0.015</td>\n",
       "      <td>-0.050</td>\n",
       "      <td>0.123</td>\n",
       "      <td>0.109</td>\n",
       "      <td>0.119</td>\n",
       "      <td>0.110</td>\n",
       "      <td>1.000</td>\n",
       "    </tr>\n",
       "  </tbody>\n",
       "</table>\n",
       "</div>"
      ],
      "text/plain": [
       "              AveragePrice  Total Volume   4046   4225   4770  Total Bags  Small Bags  Large Bags  XLarge Bags   year\n",
       "AveragePrice         1.000        -0.344 -0.342 -0.268 -0.241      -0.308      -0.296      -0.249       -0.154  0.092\n",
       "Total Volume        -0.344         1.000  0.895  0.873  0.649       0.925       0.921       0.668        0.538  0.031\n",
       "4046                -0.342         0.895  1.000  0.603  0.509       0.776       0.762       0.590        0.436  0.004\n",
       "4225                -0.268         0.873  0.603  1.000  0.623       0.754       0.783       0.466        0.450 -0.015\n",
       "4770                -0.241         0.649  0.509  0.623  1.000       0.553       0.566       0.343        0.588 -0.050\n",
       "Total Bags          -0.308         0.925  0.776  0.754  0.553       1.000       0.970       0.788        0.555  0.123\n",
       "Small Bags          -0.296         0.921  0.762  0.783  0.566       0.970       1.000       0.614        0.587  0.109\n",
       "Large Bags          -0.249         0.668  0.590  0.466  0.343       0.788       0.614       1.000        0.267  0.119\n",
       "XLarge Bags         -0.154         0.538  0.436  0.450  0.588       0.555       0.587       0.267        1.000  0.110\n",
       "year                 0.092         0.031  0.004 -0.015 -0.050       0.123       0.109       0.119        0.110  1.000"
      ]
     },
     "execution_count": 192,
     "metadata": {},
     "output_type": "execute_result"
    }
   ],
   "source": [
    "df.corr()"
   ]
  },
  {
   "cell_type": "code",
   "execution_count": 193,
   "id": "289162f0",
   "metadata": {},
   "outputs": [
    {
     "data": {
      "image/png": "[encoded data removed]",
      "text/plain": [
       "<Figure size 1296x936 with 2 Axes>"
      ]
     },
     "metadata": {
      "needs_background": "light"
     },
     "output_type": "display_data"
    }
   ],
   "source": [
    "f, ax = plt.subplots(figsize=[18, 13])\n",
    "sns.heatmap(df.corr(), annot=True, fmt=\".2f\", ax=ax, cmap=\"magma\")\n",
    "ax.set_title(\"Correlation Matrix\", fontsize=20)\n",
    "plt.show()"
   ]
  },
  {
   "cell_type": "code",
   "execution_count": 194,
   "id": "77a00f6b",
   "metadata": {},
   "outputs": [
    {
     "data": {
      "text/plain": [
       "<AxesSubplot:xlabel='year', ylabel='count'>"
      ]
     },
     "execution_count": 194,
     "metadata": {},
     "output_type": "execute_result"
    },
    {
     "data": {
      "image/png": "[encoded data removed]",
      "text/plain": [
       "<Figure size 432x288 with 1 Axes>"
      ]
     },
     "metadata": {
      "needs_background": "light"
     },
     "output_type": "display_data"
    }
   ],
   "source": [
    "sns.countplot(x='year', data=df)"
   ]
  },
  {
   "cell_type": "code",
   "execution_count": 195,
   "id": "44f0596e",
   "metadata": {},
   "outputs": [
    {
     "data": {
      "text/plain": [
       "<AxesSubplot:xlabel='type', ylabel='count'>"
      ]
     },
     "execution_count": 195,
     "metadata": {},
     "output_type": "execute_result"
    },
    {
     "data": {
      "image/png": "[encoded data removed]",
      "text/plain": [
       "<Figure size 432x288 with 1 Axes>"
      ]
     },
     "metadata": {
      "needs_background": "light"
     },
     "output_type": "display_data"
    }
   ],
   "source": [
    "sns.countplot(x='type', data=df)"
   ]
  },
  {
   "cell_type": "code",
   "execution_count": 196,
   "id": "be3d376d",
   "metadata": {},
   "outputs": [
    {
     "data": {
      "text/plain": [
       "<AxesSubplot:xlabel='region', ylabel='count'>"
      ]
     },
     "execution_count": 196,
     "metadata": {},
     "output_type": "execute_result"
    },
    {
     "data": {
      "image/png": "[encoded data removed]",
      "text/plain": [
       "<Figure size 432x288 with 1 Axes>"
      ]
     },
     "metadata": {
      "needs_background": "light"
     },
     "output_type": "display_data"
    }
   ],
   "source": [
    "sns.countplot(x='region', data=df)"
   ]
  },
  {
   "cell_type": "code",
   "execution_count": 197,
   "id": "072fba22",
   "metadata": {},
   "outputs": [],
   "source": [
    "import pylab as pl"
   ]
  },
  {
   "cell_type": "code",
   "execution_count": 198,
   "id": "6d9d6a55",
   "metadata": {},
   "outputs": [
    {
     "data": {
      "image/png": "[encoded data removed]",
      "text/plain": [
       "<Figure size 864x360 with 1 Axes>"
      ]
     },
     "metadata": {
      "needs_background": "light"
     },
     "output_type": "display_data"
    }
   ],
   "source": [
    "pl.figure(figsize=(12,5))\n",
    "pl.title(\"Distribution Price\")\n",
    "ax = sns.distplot(df[\"AveragePrice\"], color = 'r')"
   ]
  },
  {
   "cell_type": "code",
   "execution_count": 199,
   "id": "2ba450d4",
   "metadata": {},
   "outputs": [
    {
     "data": {
      "text/plain": [
       "<AxesSubplot:xlabel='AveragePrice', ylabel='type'>"
      ]
     },
     "execution_count": 199,
     "metadata": {},
     "output_type": "execute_result"
    },
    {
     "data": {
      "image/png": "[encoded data removed]",
      "text/plain": [
       "<Figure size 432x288 with 1 Axes>"
      ]
     },
     "metadata": {
      "needs_background": "light"
     },
     "output_type": "display_data"
    }
   ],
   "source": [
    "sns.boxplot(y=\"type\", x=\"AveragePrice\", data=df, palette = 'pink')"
   ]
  },
  {
   "cell_type": "markdown",
   "id": "1f7bccb0",
   "metadata": {},
   "source": [
    "Organik doğal olandır. Bu açıdan fiyatının daha yüksek olması normal. Herkes organik yetiştirilmiş avokado sever. Yetiştirilme maliyetlerinden olsa gerek daha pahalı olduğunu görebiliyoruz."
   ]
  },
  {
   "cell_type": "code",
   "execution_count": 200,
   "id": "3f7c5ee1",
   "metadata": {},
   "outputs": [
    {
     "data": {
      "text/html": [
       "<div>\n",
       "<style scoped>\n",
       "    .dataframe tbody tr th:only-of-type {\n",
       "        vertical-align: middle;\n",
       "    }\n",
       "\n",
       "    .dataframe tbody tr th {\n",
       "        vertical-align: top;\n",
       "    }\n",
       "\n",
       "    .dataframe thead th {\n",
       "        text-align: right;\n",
       "    }\n",
       "</style>\n",
       "<table border=\"1\" class=\"dataframe\">\n",
       "  <thead>\n",
       "    <tr style=\"text-align: right;\">\n",
       "      <th></th>\n",
       "      <th>Total Volume</th>\n",
       "      <th>4046</th>\n",
       "      <th>4225</th>\n",
       "      <th>4770</th>\n",
       "      <th>Total Bags</th>\n",
       "      <th>Small Bags</th>\n",
       "      <th>Large Bags</th>\n",
       "      <th>XLarge Bags</th>\n",
       "      <th>AveragePrice</th>\n",
       "    </tr>\n",
       "    <tr>\n",
       "      <th>Date</th>\n",
       "      <th></th>\n",
       "      <th></th>\n",
       "      <th></th>\n",
       "      <th></th>\n",
       "      <th></th>\n",
       "      <th></th>\n",
       "      <th></th>\n",
       "      <th></th>\n",
       "      <th></th>\n",
       "    </tr>\n",
       "  </thead>\n",
       "  <tbody>\n",
       "    <tr>\n",
       "      <th>2015-01</th>\n",
       "      <td>197631691.530</td>\n",
       "      <td>79336639.900</td>\n",
       "      <td>81053469.690</td>\n",
       "      <td>5587649.440</td>\n",
       "      <td>31653932.500</td>\n",
       "      <td>26049127.220</td>\n",
       "      <td>5517142.170</td>\n",
       "      <td>87663.110</td>\n",
       "      <td>1.368</td>\n",
       "    </tr>\n",
       "    <tr>\n",
       "      <th>2015-02</th>\n",
       "      <td>225134159.050</td>\n",
       "      <td>94671624.480</td>\n",
       "      <td>89867941.340</td>\n",
       "      <td>6540088.810</td>\n",
       "      <td>34054504.420</td>\n",
       "      <td>28538925.260</td>\n",
       "      <td>5371263.410</td>\n",
       "      <td>144315.750</td>\n",
       "      <td>1.329</td>\n",
       "    </tr>\n",
       "    <tr>\n",
       "      <th>2015-03</th>\n",
       "      <td>259825758.550</td>\n",
       "      <td>108351412.150</td>\n",
       "      <td>100860105.560</td>\n",
       "      <td>7775792.510</td>\n",
       "      <td>42838448.330</td>\n",
       "      <td>36790497.760</td>\n",
       "      <td>5809689.920</td>\n",
       "      <td>238260.650</td>\n",
       "      <td>1.364</td>\n",
       "    </tr>\n",
       "    <tr>\n",
       "      <th>2015-04</th>\n",
       "      <td>213591902.680</td>\n",
       "      <td>92826601.070</td>\n",
       "      <td>78508706.650</td>\n",
       "      <td>5916726.700</td>\n",
       "      <td>36339868.260</td>\n",
       "      <td>30765391.890</td>\n",
       "      <td>5433857.150</td>\n",
       "      <td>140619.220</td>\n",
       "      <td>1.385</td>\n",
       "    </tr>\n",
       "    <tr>\n",
       "      <th>2015-05</th>\n",
       "      <td>301031891.080</td>\n",
       "      <td>131852878.090</td>\n",
       "      <td>111659791.060</td>\n",
       "      <td>8124002.060</td>\n",
       "      <td>49395219.870</td>\n",
       "      <td>41646142.140</td>\n",
       "      <td>7563420.790</td>\n",
       "      <td>185656.940</td>\n",
       "      <td>1.346</td>\n",
       "    </tr>\n",
       "    <tr>\n",
       "      <th>2015-06</th>\n",
       "      <td>237522655.770</td>\n",
       "      <td>100166545.730</td>\n",
       "      <td>85651068.580</td>\n",
       "      <td>7572964.860</td>\n",
       "      <td>44132076.600</td>\n",
       "      <td>37742137.090</td>\n",
       "      <td>6169096.180</td>\n",
       "      <td>220843.330</td>\n",
       "      <td>1.400</td>\n",
       "    </tr>\n",
       "    <tr>\n",
       "      <th>2015-07</th>\n",
       "      <td>221613018.870</td>\n",
       "      <td>87348228.990</td>\n",
       "      <td>86310713.400</td>\n",
       "      <td>7457001.250</td>\n",
       "      <td>40497075.230</td>\n",
       "      <td>34078033.990</td>\n",
       "      <td>6202564.570</td>\n",
       "      <td>216476.670</td>\n",
       "      <td>1.417</td>\n",
       "    </tr>\n",
       "    <tr>\n",
       "      <th>2015-08</th>\n",
       "      <td>261052990.890</td>\n",
       "      <td>100622161.410</td>\n",
       "      <td>108363140.210</td>\n",
       "      <td>8573694.310</td>\n",
       "      <td>43493994.960</td>\n",
       "      <td>36844712.260</td>\n",
       "      <td>6313531.140</td>\n",
       "      <td>335751.560</td>\n",
       "      <td>1.448</td>\n",
       "    </tr>\n",
       "    <tr>\n",
       "      <th>2015-09</th>\n",
       "      <td>204961010.120</td>\n",
       "      <td>66213702.750</td>\n",
       "      <td>96200534.630</td>\n",
       "      <td>7547348.780</td>\n",
       "      <td>34999423.960</td>\n",
       "      <td>26962609.140</td>\n",
       "      <td>7675108.280</td>\n",
       "      <td>361706.540</td>\n",
       "      <td>1.450</td>\n",
       "    </tr>\n",
       "    <tr>\n",
       "      <th>2015-10</th>\n",
       "      <td>190545060.840</td>\n",
       "      <td>57435699.380</td>\n",
       "      <td>89750262.780</td>\n",
       "      <td>8727831.120</td>\n",
       "      <td>34631267.560</td>\n",
       "      <td>26864632.550</td>\n",
       "      <td>7467334.050</td>\n",
       "      <td>299300.960</td>\n",
       "      <td>1.393</td>\n",
       "    </tr>\n",
       "  </tbody>\n",
       "</table>\n",
       "</div>"
      ],
      "text/plain": [
       "         Total Volume          4046          4225        4770   Total Bags   Small Bags  Large Bags  XLarge Bags  AveragePrice\n",
       "Date                                                                                                                          \n",
       "2015-01 197631691.530  79336639.900  81053469.690 5587649.440 31653932.500 26049127.220 5517142.170    87663.110         1.368\n",
       "2015-02 225134159.050  94671624.480  89867941.340 6540088.810 34054504.420 28538925.260 5371263.410   144315.750         1.329\n",
       "2015-03 259825758.550 108351412.150 100860105.560 7775792.510 42838448.330 36790497.760 5809689.920   238260.650         1.364\n",
       "2015-04 213591902.680  92826601.070  78508706.650 5916726.700 36339868.260 30765391.890 5433857.150   140619.220         1.385\n",
       "2015-05 301031891.080 131852878.090 111659791.060 8124002.060 49395219.870 41646142.140 7563420.790   185656.940         1.346\n",
       "2015-06 237522655.770 100166545.730  85651068.580 7572964.860 44132076.600 37742137.090 6169096.180   220843.330         1.400\n",
       "2015-07 221613018.870  87348228.990  86310713.400 7457001.250 40497075.230 34078033.990 6202564.570   216476.670         1.417\n",
       "2015-08 261052990.890 100622161.410 108363140.210 8573694.310 43493994.960 36844712.260 6313531.140   335751.560         1.448\n",
       "2015-09 204961010.120  66213702.750  96200534.630 7547348.780 34999423.960 26962609.140 7675108.280   361706.540         1.450\n",
       "2015-10 190545060.840  57435699.380  89750262.780 8727831.120 34631267.560 26864632.550 7467334.050   299300.960         1.393"
      ]
     },
     "execution_count": 200,
     "metadata": {},
     "output_type": "execute_result"
    }
   ],
   "source": [
    "avocado_by_date = df.groupby('Date').aggregate({'Total Volume':'sum',\n",
    "                                                              '4046':'sum',\n",
    "                                                              '4225':'sum',\n",
    "                                                              '4770':'sum',\n",
    "                                                              'Total Bags':'sum',\n",
    "                                                              'Small Bags':'sum',\n",
    "                                                              'Large Bags':'sum',\n",
    "                                                              'XLarge Bags':'sum',\n",
    "                                                             'AveragePrice':'mean'})\n",
    "\n",
    "avocado_by_date.head(10)"
   ]
  },
  {
   "cell_type": "code",
   "execution_count": 201,
   "id": "f6a0a969",
   "metadata": {},
   "outputs": [
    {
     "data": {
      "application/vnd.plotly.v1+json": {
       "config": {
        "plotlyServerURL": "https://plot.ly"
       },
       "data": [
        {
         "hovertemplate": "x=%{x}<br>y=%{y}<extra></extra>",
         "legendgroup": "",
         "line": {
          "color": "#636efa",
          "dash": "solid"
         },
         "marker": {
          "symbol": "circle"
         },
         "mode": "lines",
         "name": "",
         "orientation": "v",
         "showlegend": false,
         "type": "scatter",
         "x": [
          "2015-01-01T00:00:00",
          "2015-02-01T00:00:00",
          "2015-03-01T00:00:00",
          "2015-04-01T00:00:00",
          "2015-05-01T00:00:00",
          "2015-06-01T00:00:00",
          "2015-07-01T00:00:00",
          "2015-08-01T00:00:00",
          "2015-09-01T00:00:00",
          "2015-10-01T00:00:00",
          "2015-11-01T00:00:00",
          "2015-12-01T00:00:00",
          "2016-01-01T00:00:00",
          "2016-02-01T00:00:00",
          "2016-03-01T00:00:00",
          "2016-04-01T00:00:00",
          "2016-05-01T00:00:00",
          "2016-06-01T00:00:00",
          "2016-07-01T00:00:00",
          "2016-08-01T00:00:00",
          "2016-09-01T00:00:00",
          "2016-10-01T00:00:00",
          "2016-11-01T00:00:00",
          "2016-12-01T00:00:00",
          "2017-01-01T00:00:00",
          "2017-02-01T00:00:00",
          "2017-03-01T00:00:00",
          "2017-04-01T00:00:00",
          "2017-05-01T00:00:00",
          "2017-06-01T00:00:00",
          "2017-07-01T00:00:00",
          "2017-08-01T00:00:00",
          "2017-09-01T00:00:00",
          "2017-10-01T00:00:00",
          "2017-11-01T00:00:00",
          "2017-12-01T00:00:00",
          "2018-01-01T00:00:00",
          "2018-02-01T00:00:00",
          "2018-03-01T00:00:00"
         ],
         "xaxis": "x",
         "y": [
          1.3675471698113213,
          1.328820754716981,
          1.3639811320754718,
          1.3850707547169812,
          1.3463396226415076,
          1.4002122641509438,
          1.4165801886792448,
          1.4482075471698126,
          1.4500707547169829,
          1.3927830188679247,
          1.3323018867924523,
          1.306879432624113,
          1.2415660377358495,
          1.2387735849056598,
          1.2260141509433962,
          1.206674528301887,
          1.201188679245285,
          1.2839150943396227,
          1.4021509433962283,
          1.4129952830188677,
          1.4290801886792455,
          1.558433962264151,
          1.551132075471699,
          1.3179716981132081,
          1.2791320754716986,
          1.2166981132075476,
          1.401344339622641,
          1.5052264150943386,
          1.5347641509433962,
          1.5474881516587669,
          1.5659433962264149,
          1.6996462264150947,
          1.8418396226415081,
          1.7535094339622643,
          1.5179245283018863,
          1.3646037735849048,
          1.388042452830189,
          1.319622641509435,
          1.3372169811320758
         ],
         "yaxis": "y"
        }
       ],
       "layout": {
        "legend": {
         "tracegroupgap": 0
        },
        "template": {
         "data": {
          "bar": [
           {
            "error_x": {
             "color": "#2a3f5f"
            },
            "error_y": {
             "color": "#2a3f5f"
            },
            "marker": {
             "line": {
              "color": "#E5ECF6",
              "width": 0.5
             },
             "pattern": {
              "fillmode": "overlay",
              "size": 10,
              "solidity": 0.2
             }
            },
            "type": "bar"
           }
          ],
          "barpolar": [
           {
            "marker": {
             "line": {
              "color": "#E5ECF6",
              "width": 0.5
             },
             "pattern": {
              "fillmode": "overlay",
              "size": 10,
              "solidity": 0.2
             }
            },
            "type": "barpolar"
           }
          ],
          "carpet": [
           {
            "aaxis": {
             "endlinecolor": "#2a3f5f",
             "gridcolor": "white",
             "linecolor": "white",
             "minorgridcolor": "white",
             "startlinecolor": "#2a3f5f"
            },
            "baxis": {
             "endlinecolor": "#2a3f5f",
             "gridcolor": "white",
             "linecolor": "white",
             "minorgridcolor": "white",
             "startlinecolor": "#2a3f5f"
            },
            "type": "carpet"
           }
          ],
          "choropleth": [
           {
            "colorbar": {
             "outlinewidth": 0,
             "ticks": ""
            },
            "type": "choropleth"
           }
          ],
          "contour": [
           {
            "colorbar": {
             "outlinewidth": 0,
             "ticks": ""
            },
            "colorscale": [
             [
              0,
              "#0d0887"
             ],
             [
              0.1111111111111111,
              "#46039f"
             ],
             [
              0.2222222222222222,
              "#7201a8"
             ],
             [
              0.3333333333333333,
              "#9c179e"
             ],
             [
              0.4444444444444444,
              "#bd3786"
             ],
             [
              0.5555555555555556,
              "#d8576b"
             ],
             [
              0.6666666666666666,
              "#ed7953"
             ],
             [
              0.7777777777777778,
              "#fb9f3a"
             ],
             [
              0.8888888888888888,
              "#fdca26"
             ],
             [
              1,
              "#f0f921"
             ]
            ],
            "type": "contour"
           }
          ],
          "contourcarpet": [
           {
            "colorbar": {
             "outlinewidth": 0,
             "ticks": ""
            },
            "type": "contourcarpet"
           }
          ],
          "heatmap": [
           {
            "colorbar": {
             "outlinewidth": 0,
             "ticks": ""
            },
            "colorscale": [
             [
              0,
              "#0d0887"
             ],
             [
              0.1111111111111111,
              "#46039f"
             ],
             [
              0.2222222222222222,
              "#7201a8"
             ],
             [
              0.3333333333333333,
              "#9c179e"
             ],
             [
              0.4444444444444444,
              "#bd3786"
             ],
             [
              0.5555555555555556,
              "#d8576b"
             ],
             [
              0.6666666666666666,
              "#ed7953"
             ],
             [
              0.7777777777777778,
              "#fb9f3a"
             ],
             [
              0.8888888888888888,
              "#fdca26"
             ],
             [
              1,
              "#f0f921"
             ]
            ],
            "type": "heatmap"
           }
          ],
          "heatmapgl": [
           {
            "colorbar": {
             "outlinewidth": 0,
             "ticks": ""
            },
            "colorscale": [
             [
              0,
              "#0d0887"
             ],
             [
              0.1111111111111111,
              "#46039f"
             ],
             [
              0.2222222222222222,
              "#7201a8"
             ],
             [
              0.3333333333333333,
              "#9c179e"
             ],
             [
              0.4444444444444444,
              "#bd3786"
             ],
             [
              0.5555555555555556,
              "#d8576b"
             ],
             [
              0.6666666666666666,
              "#ed7953"
             ],
             [
              0.7777777777777778,
              "#fb9f3a"
             ],
             [
              0.8888888888888888,
              "#fdca26"
             ],
             [
              1,
              "#f0f921"
             ]
            ],
            "type": "heatmapgl"
           }
          ],
          "histogram": [
           {
            "marker": {
             "pattern": {
              "fillmode": "overlay",
              "size": 10,
              "solidity": 0.2
             }
            },
            "type": "histogram"
           }
          ],
          "histogram2d": [
           {
            "colorbar": {
             "outlinewidth": 0,
             "ticks": ""
            },
            "colorscale": [
             [
              0,
              "#0d0887"
             ],
             [
              0.1111111111111111,
              "#46039f"
             ],
             [
              0.2222222222222222,
              "#7201a8"
             ],
             [
              0.3333333333333333,
              "#9c179e"
             ],
             [
              0.4444444444444444,
              "#bd3786"
             ],
             [
              0.5555555555555556,
              "#d8576b"
             ],
             [
              0.6666666666666666,
              "#ed7953"
             ],
             [
              0.7777777777777778,
              "#fb9f3a"
             ],
             [
              0.8888888888888888,
              "#fdca26"
             ],
             [
              1,
              "#f0f921"
             ]
            ],
            "type": "histogram2d"
           }
          ],
          "histogram2dcontour": [
           {
            "colorbar": {
             "outlinewidth": 0,
             "ticks": ""
            },
            "colorscale": [
             [
              0,
              "#0d0887"
             ],
             [
              0.1111111111111111,
              "#46039f"
             ],
             [
              0.2222222222222222,
              "#7201a8"
             ],
             [
              0.3333333333333333,
              "#9c179e"
             ],
             [
              0.4444444444444444,
              "#bd3786"
             ],
             [
              0.5555555555555556,
              "#d8576b"
             ],
             [
              0.6666666666666666,
              "#ed7953"
             ],
             [
              0.7777777777777778,
              "#fb9f3a"
             ],
             [
              0.8888888888888888,
              "#fdca26"
             ],
             [
              1,
              "#f0f921"
             ]
            ],
            "type": "histogram2dcontour"
           }
          ],
          "mesh3d": [
           {
            "colorbar": {
             "outlinewidth": 0,
             "ticks": ""
            },
            "type": "mesh3d"
           }
          ],
          "parcoords": [
           {
            "line": {
             "colorbar": {
              "outlinewidth": 0,
              "ticks": ""
             }
            },
            "type": "parcoords"
           }
          ],
          "pie": [
           {
            "automargin": true,
            "type": "pie"
           }
          ],
          "scatter": [
           {
            "fillpattern": {
             "fillmode": "overlay",
             "size": 10,
             "solidity": 0.2
            },
            "type": "scatter"
           }
          ],
          "scatter3d": [
           {
            "line": {
             "colorbar": {
              "outlinewidth": 0,
              "ticks": ""
             }
            },
            "marker": {
             "colorbar": {
              "outlinewidth": 0,
              "ticks": ""
             }
            },
            "type": "scatter3d"
           }
          ],
          "scattercarpet": [
           {
            "marker": {
             "colorbar": {
              "outlinewidth": 0,
              "ticks": ""
             }
            },
            "type": "scattercarpet"
           }
          ],
          "scattergeo": [
           {
            "marker": {
             "colorbar": {
              "outlinewidth": 0,
              "ticks": ""
             }
            },
            "type": "scattergeo"
           }
          ],
          "scattergl": [
           {
            "marker": {
             "colorbar": {
              "outlinewidth": 0,
              "ticks": ""
             }
            },
            "type": "scattergl"
           }
          ],
          "scattermapbox": [
           {
            "marker": {
             "colorbar": {
              "outlinewidth": 0,
              "ticks": ""
             }
            },
            "type": "scattermapbox"
           }
          ],
          "scatterpolar": [
           {
            "marker": {
             "colorbar": {
              "outlinewidth": 0,
              "ticks": ""
             }
            },
            "type": "scatterpolar"
           }
          ],
          "scatterpolargl": [
           {
            "marker": {
             "colorbar": {
              "outlinewidth": 0,
              "ticks": ""
             }
            },
            "type": "scatterpolargl"
           }
          ],
          "scatterternary": [
           {
            "marker": {
             "colorbar": {
              "outlinewidth": 0,
              "ticks": ""
             }
            },
            "type": "scatterternary"
           }
          ],
          "surface": [
           {
            "colorbar": {
             "outlinewidth": 0,
             "ticks": ""
            },
            "colorscale": [
             [
              0,
              "#0d0887"
             ],
             [
              0.1111111111111111,
              "#46039f"
             ],
             [
              0.2222222222222222,
              "#7201a8"
             ],
             [
              0.3333333333333333,
              "#9c179e"
             ],
             [
              0.4444444444444444,
              "#bd3786"
             ],
             [
              0.5555555555555556,
              "#d8576b"
             ],
             [
              0.6666666666666666,
              "#ed7953"
             ],
             [
              0.7777777777777778,
              "#fb9f3a"
             ],
             [
              0.8888888888888888,
              "#fdca26"
             ],
             [
              1,
              "#f0f921"
             ]
            ],
            "type": "surface"
           }
          ],
          "table": [
           {
            "cells": {
             "fill": {
              "color": "#EBF0F8"
             },
             "line": {
              "color": "white"
             }
            },
            "header": {
             "fill": {
              "color": "#C8D4E3"
             },
             "line": {
              "color": "white"
             }
            },
            "type": "table"
           }
          ]
         },
         "layout": {
          "annotationdefaults": {
           "arrowcolor": "#2a3f5f",
           "arrowhead": 0,
           "arrowwidth": 1
          },
          "autotypenumbers": "strict",
          "coloraxis": {
           "colorbar": {
            "outlinewidth": 0,
            "ticks": ""
           }
          },
          "colorscale": {
           "diverging": [
            [
             0,
             "#8e0152"
            ],
            [
             0.1,
             "#c51b7d"
            ],
            [
             0.2,
             "#de77ae"
            ],
            [
             0.3,
             "#f1b6da"
            ],
            [
             0.4,
             "#fde0ef"
            ],
            [
             0.5,
             "#f7f7f7"
            ],
            [
             0.6,
             "#e6f5d0"
            ],
            [
             0.7,
             "#b8e186"
            ],
            [
             0.8,
             "#7fbc41"
            ],
            [
             0.9,
             "#4d9221"
            ],
            [
             1,
             "#276419"
            ]
           ],
           "sequential": [
            [
             0,
             "#0d0887"
            ],
            [
             0.1111111111111111,
             "#46039f"
            ],
            [
             0.2222222222222222,
             "#7201a8"
            ],
            [
             0.3333333333333333,
             "#9c179e"
            ],
            [
             0.4444444444444444,
             "#bd3786"
            ],
            [
             0.5555555555555556,
             "#d8576b"
            ],
            [
             0.6666666666666666,
             "#ed7953"
            ],
            [
             0.7777777777777778,
             "#fb9f3a"
            ],
            [
             0.8888888888888888,
             "#fdca26"
            ],
            [
             1,
             "#f0f921"
            ]
           ],
           "sequentialminus": [
            [
             0,
             "#0d0887"
            ],
            [
             0.1111111111111111,
             "#46039f"
            ],
            [
             0.2222222222222222,
             "#7201a8"
            ],
            [
             0.3333333333333333,
             "#9c179e"
            ],
            [
             0.4444444444444444,
             "#bd3786"
            ],
            [
             0.5555555555555556,
             "#d8576b"
            ],
            [
             0.6666666666666666,
             "#ed7953"
            ],
            [
             0.7777777777777778,
             "#fb9f3a"
            ],
            [
             0.8888888888888888,
             "#fdca26"
            ],
            [
             1,
             "#f0f921"
            ]
           ]
          },
          "colorway": [
           "#636efa",
           "#EF553B",
           "#00cc96",
           "#ab63fa",
           "#FFA15A",
           "#19d3f3",
           "#FF6692",
           "#B6E880",
           "#FF97FF",
           "#FECB52"
          ],
          "font": {
           "color": "#2a3f5f"
          },
          "geo": {
           "bgcolor": "white",
           "lakecolor": "white",
           "landcolor": "#E5ECF6",
           "showlakes": true,
           "showland": true,
           "subunitcolor": "white"
          },
          "hoverlabel": {
           "align": "left"
          },
          "hovermode": "closest",
          "mapbox": {
           "style": "light"
          },
          "paper_bgcolor": "white",
          "plot_bgcolor": "#E5ECF6",
          "polar": {
           "angularaxis": {
            "gridcolor": "white",
            "linecolor": "white",
            "ticks": ""
           },
           "bgcolor": "#E5ECF6",
           "radialaxis": {
            "gridcolor": "white",
            "linecolor": "white",
            "ticks": ""
           }
          },
          "scene": {
           "xaxis": {
            "backgroundcolor": "#E5ECF6",
            "gridcolor": "white",
            "gridwidth": 2,
            "linecolor": "white",
            "showbackground": true,
            "ticks": "",
            "zerolinecolor": "white"
           },
           "yaxis": {
            "backgroundcolor": "#E5ECF6",
            "gridcolor": "white",
            "gridwidth": 2,
            "linecolor": "white",
            "showbackground": true,
            "ticks": "",
            "zerolinecolor": "white"
           },
           "zaxis": {
            "backgroundcolor": "#E5ECF6",
            "gridcolor": "white",
            "gridwidth": 2,
            "linecolor": "white",
            "showbackground": true,
            "ticks": "",
            "zerolinecolor": "white"
           }
          },
          "shapedefaults": {
           "line": {
            "color": "#2a3f5f"
           }
          },
          "ternary": {
           "aaxis": {
            "gridcolor": "white",
            "linecolor": "white",
            "ticks": ""
           },
           "baxis": {
            "gridcolor": "white",
            "linecolor": "white",
            "ticks": ""
           },
           "bgcolor": "#E5ECF6",
           "caxis": {
            "gridcolor": "white",
            "linecolor": "white",
            "ticks": ""
           }
          },
          "title": {
           "x": 0.05
          },
          "xaxis": {
           "automargin": true,
           "gridcolor": "white",
           "linecolor": "white",
           "ticks": "",
           "title": {
            "standoff": 15
           },
           "zerolinecolor": "white",
           "zerolinewidth": 2
          },
          "yaxis": {
           "automargin": true,
           "gridcolor": "white",
           "linecolor": "white",
           "ticks": "",
           "title": {
            "standoff": 15
           },
           "zerolinecolor": "white",
           "zerolinewidth": 2
          }
         }
        },
        "title": {
         "text": "Average Price by Date"
        },
        "xaxis": {
         "anchor": "y",
         "domain": [
          0,
          1
         ],
         "title": {
          "text": "x"
         }
        },
        "yaxis": {
         "anchor": "x",
         "domain": [
          0,
          1
         ],
         "title": {
          "text": "y"
         }
        }
       }
      },
      "text/html": [
       "<div>                            <div id=\"6fcae878-46f1-4903-9b2a-862e347c3fbe\" class=\"plotly-graph-div\" style=\"height:525px; width:100%;\"></div>            <script type=\"text/javascript\">                require([\"plotly\"], function(Plotly) {                    window.PLOTLYENV=window.PLOTLYENV || {};                                    if (document.getElementById(\"6fcae878-46f1-4903-9b2a-862e347c3fbe\")) {                    Plotly.newPlot(                        \"6fcae878-46f1-4903-9b2a-862e347c3fbe\",                        [{\"hovertemplate\":\"x=%{x}<br>y=%{y}<extra></extra>\",\"legendgroup\":\"\",\"line\":{\"color\":\"#636efa\",\"dash\":\"solid\"},\"marker\":{\"symbol\":\"circle\"},\"mode\":\"lines\",\"name\":\"\",\"orientation\":\"v\",\"showlegend\":false,\"x\":[\"2015-01-01T00:00:00\",\"2015-02-01T00:00:00\",\"2015-03-01T00:00:00\",\"2015-04-01T00:00:00\",\"2015-05-01T00:00:00\",\"2015-06-01T00:00:00\",\"2015-07-01T00:00:00\",\"2015-08-01T00:00:00\",\"2015-09-01T00:00:00\",\"2015-10-01T00:00:00\",\"2015-11-01T00:00:00\",\"2015-12-01T00:00:00\",\"2016-01-01T00:00:00\",\"2016-02-01T00:00:00\",\"2016-03-01T00:00:00\",\"2016-04-01T00:00:00\",\"2016-05-01T00:00:00\",\"2016-06-01T00:00:00\",\"2016-07-01T00:00:00\",\"2016-08-01T00:00:00\",\"2016-09-01T00:00:00\",\"2016-10-01T00:00:00\",\"2016-11-01T00:00:00\",\"2016-12-01T00:00:00\",\"2017-01-01T00:00:00\",\"2017-02-01T00:00:00\",\"2017-03-01T00:00:00\",\"2017-04-01T00:00:00\",\"2017-05-01T00:00:00\",\"2017-06-01T00:00:00\",\"2017-07-01T00:00:00\",\"2017-08-01T00:00:00\",\"2017-09-01T00:00:00\",\"2017-10-01T00:00:00\",\"2017-11-01T00:00:00\",\"2017-12-01T00:00:00\",\"2018-01-01T00:00:00\",\"2018-02-01T00:00:00\",\"2018-03-01T00:00:00\"],\"xaxis\":\"x\",\"y\":[1.3675471698113213,1.328820754716981,1.3639811320754718,1.3850707547169812,1.3463396226415076,1.4002122641509438,1.4165801886792448,1.4482075471698126,1.4500707547169829,1.3927830188679247,1.3323018867924523,1.306879432624113,1.2415660377358495,1.2387735849056598,1.2260141509433962,1.206674528301887,1.201188679245285,1.2839150943396227,1.4021509433962283,1.4129952830188677,1.4290801886792455,1.558433962264151,1.551132075471699,1.3179716981132081,1.2791320754716986,1.2166981132075476,1.401344339622641,1.5052264150943386,1.5347641509433962,1.5474881516587669,1.5659433962264149,1.6996462264150947,1.8418396226415081,1.7535094339622643,1.5179245283018863,1.3646037735849048,1.388042452830189,1.319622641509435,1.3372169811320758],\"yaxis\":\"y\",\"type\":\"scatter\"}],                        {\"template\":{\"data\":{\"histogram2dcontour\":[{\"type\":\"histogram2dcontour\",\"colorbar\":{\"outlinewidth\":0,\"ticks\":\"\"},\"colorscale\":[[0.0,\"#0d0887\"],[0.1111111111111111,\"#46039f\"],[0.2222222222222222,\"#7201a8\"],[0.3333333333333333,\"#9c179e\"],[0.4444444444444444,\"#bd3786\"],[0.5555555555555556,\"#d8576b\"],[0.6666666666666666,\"#ed7953\"],[0.7777777777777778,\"#fb9f3a\"],[0.8888888888888888,\"#fdca26\"],[1.0,\"#f0f921\"]]}],\"choropleth\":[{\"type\":\"choropleth\",\"colorbar\":{\"outlinewidth\":0,\"ticks\":\"\"}}],\"histogram2d\":[{\"type\":\"histogram2d\",\"colorbar\":{\"outlinewidth\":0,\"ticks\":\"\"},\"colorscale\":[[0.0,\"#0d0887\"],[0.1111111111111111,\"#46039f\"],[0.2222222222222222,\"#7201a8\"],[0.3333333333333333,\"#9c179e\"],[0.4444444444444444,\"#bd3786\"],[0.5555555555555556,\"#d8576b\"],[0.6666666666666666,\"#ed7953\"],[0.7777777777777778,\"#fb9f3a\"],[0.8888888888888888,\"#fdca26\"],[1.0,\"#f0f921\"]]}],\"heatmap\":[{\"type\":\"heatmap\",\"colorbar\":{\"outlinewidth\":0,\"ticks\":\"\"},\"colorscale\":[[0.0,\"#0d0887\"],[0.1111111111111111,\"#46039f\"],[0.2222222222222222,\"#7201a8\"],[0.3333333333333333,\"#9c179e\"],[0.4444444444444444,\"#bd3786\"],[0.5555555555555556,\"#d8576b\"],[0.6666666666666666,\"#ed7953\"],[0.7777777777777778,\"#fb9f3a\"],[0.8888888888888888,\"#fdca26\"],[1.0,\"#f0f921\"]]}],\"heatmapgl\":[{\"type\":\"heatmapgl\",\"colorbar\":{\"outlinewidth\":0,\"ticks\":\"\"},\"colorscale\":[[0.0,\"#0d0887\"],[0.1111111111111111,\"#46039f\"],[0.2222222222222222,\"#7201a8\"],[0.3333333333333333,\"#9c179e\"],[0.4444444444444444,\"#bd3786\"],[0.5555555555555556,\"#d8576b\"],[0.6666666666666666,\"#ed7953\"],[0.7777777777777778,\"#fb9f3a\"],[0.8888888888888888,\"#fdca26\"],[1.0,\"#f0f921\"]]}],\"contourcarpet\":[{\"type\":\"contourcarpet\",\"colorbar\":{\"outlinewidth\":0,\"ticks\":\"\"}}],\"contour\":[{\"type\":\"contour\",\"colorbar\":{\"outlinewidth\":0,\"ticks\":\"\"},\"colorscale\":[[0.0,\"#0d0887\"],[0.1111111111111111,\"#46039f\"],[0.2222222222222222,\"#7201a8\"],[0.3333333333333333,\"#9c179e\"],[0.4444444444444444,\"#bd3786\"],[0.5555555555555556,\"#d8576b\"],[0.6666666666666666,\"#ed7953\"],[0.7777777777777778,\"#fb9f3a\"],[0.8888888888888888,\"#fdca26\"],[1.0,\"#f0f921\"]]}],\"surface\":[{\"type\":\"surface\",\"colorbar\":{\"outlinewidth\":0,\"ticks\":\"\"},\"colorscale\":[[0.0,\"#0d0887\"],[0.1111111111111111,\"#46039f\"],[0.2222222222222222,\"#7201a8\"],[0.3333333333333333,\"#9c179e\"],[0.4444444444444444,\"#bd3786\"],[0.5555555555555556,\"#d8576b\"],[0.6666666666666666,\"#ed7953\"],[0.7777777777777778,\"#fb9f3a\"],[0.8888888888888888,\"#fdca26\"],[1.0,\"#f0f921\"]]}],\"mesh3d\":[{\"type\":\"mesh3d\",\"colorbar\":{\"outlinewidth\":0,\"ticks\":\"\"}}],\"scatter\":[{\"fillpattern\":{\"fillmode\":\"overlay\",\"size\":10,\"solidity\":0.2},\"type\":\"scatter\"}],\"parcoords\":[{\"type\":\"parcoords\",\"line\":{\"colorbar\":{\"outlinewidth\":0,\"ticks\":\"\"}}}],\"scatterpolargl\":[{\"type\":\"scatterpolargl\",\"marker\":{\"colorbar\":{\"outlinewidth\":0,\"ticks\":\"\"}}}],\"bar\":[{\"error_x\":{\"color\":\"#2a3f5f\"},\"error_y\":{\"color\":\"#2a3f5f\"},\"marker\":{\"line\":{\"color\":\"#E5ECF6\",\"width\":0.5},\"pattern\":{\"fillmode\":\"overlay\",\"size\":10,\"solidity\":0.2}},\"type\":\"bar\"}],\"scattergeo\":[{\"type\":\"scattergeo\",\"marker\":{\"colorbar\":{\"outlinewidth\":0,\"ticks\":\"\"}}}],\"scatterpolar\":[{\"type\":\"scatterpolar\",\"marker\":{\"colorbar\":{\"outlinewidth\":0,\"ticks\":\"\"}}}],\"histogram\":[{\"marker\":{\"pattern\":{\"fillmode\":\"overlay\",\"size\":10,\"solidity\":0.2}},\"type\":\"histogram\"}],\"scattergl\":[{\"type\":\"scattergl\",\"marker\":{\"colorbar\":{\"outlinewidth\":0,\"ticks\":\"\"}}}],\"scatter3d\":[{\"type\":\"scatter3d\",\"line\":{\"colorbar\":{\"outlinewidth\":0,\"ticks\":\"\"}},\"marker\":{\"colorbar\":{\"outlinewidth\":0,\"ticks\":\"\"}}}],\"scattermapbox\":[{\"type\":\"scattermapbox\",\"marker\":{\"colorbar\":{\"outlinewidth\":0,\"ticks\":\"\"}}}],\"scatterternary\":[{\"type\":\"scatterternary\",\"marker\":{\"colorbar\":{\"outlinewidth\":0,\"ticks\":\"\"}}}],\"scattercarpet\":[{\"type\":\"scattercarpet\",\"marker\":{\"colorbar\":{\"outlinewidth\":0,\"ticks\":\"\"}}}],\"carpet\":[{\"aaxis\":{\"endlinecolor\":\"#2a3f5f\",\"gridcolor\":\"white\",\"linecolor\":\"white\",\"minorgridcolor\":\"white\",\"startlinecolor\":\"#2a3f5f\"},\"baxis\":{\"endlinecolor\":\"#2a3f5f\",\"gridcolor\":\"white\",\"linecolor\":\"white\",\"minorgridcolor\":\"white\",\"startlinecolor\":\"#2a3f5f\"},\"type\":\"carpet\"}],\"table\":[{\"cells\":{\"fill\":{\"color\":\"#EBF0F8\"},\"line\":{\"color\":\"white\"}},\"header\":{\"fill\":{\"color\":\"#C8D4E3\"},\"line\":{\"color\":\"white\"}},\"type\":\"table\"}],\"barpolar\":[{\"marker\":{\"line\":{\"color\":\"#E5ECF6\",\"width\":0.5},\"pattern\":{\"fillmode\":\"overlay\",\"size\":10,\"solidity\":0.2}},\"type\":\"barpolar\"}],\"pie\":[{\"automargin\":true,\"type\":\"pie\"}]},\"layout\":{\"autotypenumbers\":\"strict\",\"colorway\":[\"#636efa\",\"#EF553B\",\"#00cc96\",\"#ab63fa\",\"#FFA15A\",\"#19d3f3\",\"#FF6692\",\"#B6E880\",\"#FF97FF\",\"#FECB52\"],\"font\":{\"color\":\"#2a3f5f\"},\"hovermode\":\"closest\",\"hoverlabel\":{\"align\":\"left\"},\"paper_bgcolor\":\"white\",\"plot_bgcolor\":\"#E5ECF6\",\"polar\":{\"bgcolor\":\"#E5ECF6\",\"angularaxis\":{\"gridcolor\":\"white\",\"linecolor\":\"white\",\"ticks\":\"\"},\"radialaxis\":{\"gridcolor\":\"white\",\"linecolor\":\"white\",\"ticks\":\"\"}},\"ternary\":{\"bgcolor\":\"#E5ECF6\",\"aaxis\":{\"gridcolor\":\"white\",\"linecolor\":\"white\",\"ticks\":\"\"},\"baxis\":{\"gridcolor\":\"white\",\"linecolor\":\"white\",\"ticks\":\"\"},\"caxis\":{\"gridcolor\":\"white\",\"linecolor\":\"white\",\"ticks\":\"\"}},\"coloraxis\":{\"colorbar\":{\"outlinewidth\":0,\"ticks\":\"\"}},\"colorscale\":{\"sequential\":[[0.0,\"#0d0887\"],[0.1111111111111111,\"#46039f\"],[0.2222222222222222,\"#7201a8\"],[0.3333333333333333,\"#9c179e\"],[0.4444444444444444,\"#bd3786\"],[0.5555555555555556,\"#d8576b\"],[0.6666666666666666,\"#ed7953\"],[0.7777777777777778,\"#fb9f3a\"],[0.8888888888888888,\"#fdca26\"],[1.0,\"#f0f921\"]],\"sequentialminus\":[[0.0,\"#0d0887\"],[0.1111111111111111,\"#46039f\"],[0.2222222222222222,\"#7201a8\"],[0.3333333333333333,\"#9c179e\"],[0.4444444444444444,\"#bd3786\"],[0.5555555555555556,\"#d8576b\"],[0.6666666666666666,\"#ed7953\"],[0.7777777777777778,\"#fb9f3a\"],[0.8888888888888888,\"#fdca26\"],[1.0,\"#f0f921\"]],\"diverging\":[[0,\"#8e0152\"],[0.1,\"#c51b7d\"],[0.2,\"#de77ae\"],[0.3,\"#f1b6da\"],[0.4,\"#fde0ef\"],[0.5,\"#f7f7f7\"],[0.6,\"#e6f5d0\"],[0.7,\"#b8e186\"],[0.8,\"#7fbc41\"],[0.9,\"#4d9221\"],[1,\"#276419\"]]},\"xaxis\":{\"gridcolor\":\"white\",\"linecolor\":\"white\",\"ticks\":\"\",\"title\":{\"standoff\":15},\"zerolinecolor\":\"white\",\"automargin\":true,\"zerolinewidth\":2},\"yaxis\":{\"gridcolor\":\"white\",\"linecolor\":\"white\",\"ticks\":\"\",\"title\":{\"standoff\":15},\"zerolinecolor\":\"white\",\"automargin\":true,\"zerolinewidth\":2},\"scene\":{\"xaxis\":{\"backgroundcolor\":\"#E5ECF6\",\"gridcolor\":\"white\",\"linecolor\":\"white\",\"showbackground\":true,\"ticks\":\"\",\"zerolinecolor\":\"white\",\"gridwidth\":2},\"yaxis\":{\"backgroundcolor\":\"#E5ECF6\",\"gridcolor\":\"white\",\"linecolor\":\"white\",\"showbackground\":true,\"ticks\":\"\",\"zerolinecolor\":\"white\",\"gridwidth\":2},\"zaxis\":{\"backgroundcolor\":\"#E5ECF6\",\"gridcolor\":\"white\",\"linecolor\":\"white\",\"showbackground\":true,\"ticks\":\"\",\"zerolinecolor\":\"white\",\"gridwidth\":2}},\"shapedefaults\":{\"line\":{\"color\":\"#2a3f5f\"}},\"annotationdefaults\":{\"arrowcolor\":\"#2a3f5f\",\"arrowhead\":0,\"arrowwidth\":1},\"geo\":{\"bgcolor\":\"white\",\"landcolor\":\"#E5ECF6\",\"subunitcolor\":\"white\",\"showland\":true,\"showlakes\":true,\"lakecolor\":\"white\"},\"title\":{\"x\":0.05},\"mapbox\":{\"style\":\"light\"}}},\"xaxis\":{\"anchor\":\"y\",\"domain\":[0.0,1.0],\"title\":{\"text\":\"x\"}},\"yaxis\":{\"anchor\":\"x\",\"domain\":[0.0,1.0],\"title\":{\"text\":\"y\"}},\"legend\":{\"tracegroupgap\":0},\"title\":{\"text\":\"Average Price by Date\"}},                        {\"responsive\": true}                    ).then(function(){\n",
       "                            \n",
       "var gd = document.getElementById('6fcae878-46f1-4903-9b2a-862e347c3fbe');\n",
       "var x = new MutationObserver(function (mutations, observer) {{\n",
       "        var display = window.getComputedStyle(gd).display;\n",
       "        if (!display || display === 'none') {{\n",
       "            console.log([gd, 'removed!']);\n",
       "            Plotly.purge(gd);\n",
       "            observer.disconnect();\n",
       "        }}\n",
       "}});\n",
       "\n",
       "// Listen for the removal of the full notebook cells\n",
       "var notebookContainer = gd.closest('#notebook-container');\n",
       "if (notebookContainer) {{\n",
       "    x.observe(notebookContainer, {childList: true});\n",
       "}}\n",
       "\n",
       "// Listen for the clearing of the current output cell\n",
       "var outputEl = gd.closest('.output');\n",
       "if (outputEl) {{\n",
       "    x.observe(outputEl, {childList: true});\n",
       "}}\n",
       "\n",
       "                        })                };                });            </script>        </div>"
      ]
     },
     "metadata": {},
     "output_type": "display_data"
    }
   ],
   "source": [
    "import plotly.express as px\n",
    "px.line(x=avocado_by_date.index.to_timestamp(),\n",
    "        y=avocado_by_date['AveragePrice'],\n",
    "        title=\"Average Price by Date\")"
   ]
  },
  {
   "cell_type": "markdown",
   "id": "985d4d3e",
   "metadata": {},
   "source": [
    "Yıllara göre incelediğimizde ortalama fiyatın en yüksek olduğu aylar Eylül ve Ekim ayıdır. Bu aylar Amerika'da avokado hasat zamanıdır."
   ]
  },
  {
   "cell_type": "code",
   "execution_count": 202,
   "id": "3fb6a932",
   "metadata": {},
   "outputs": [
    {
     "data": {
      "application/vnd.plotly.v1+json": {
       "config": {
        "plotlyServerURL": "https://plot.ly"
       },
       "data": [
        {
         "hovertemplate": "x=%{x}<br>y=%{y}<extra></extra>",
         "legendgroup": "",
         "line": {
          "color": "#636efa",
          "dash": "solid"
         },
         "marker": {
          "symbol": "circle"
         },
         "mode": "lines",
         "name": "",
         "orientation": "v",
         "showlegend": false,
         "type": "scatter",
         "x": [
          "2015-01-01T00:00:00",
          "2015-02-01T00:00:00",
          "2015-03-01T00:00:00",
          "2015-04-01T00:00:00",
          "2015-05-01T00:00:00",
          "2015-06-01T00:00:00",
          "2015-07-01T00:00:00",
          "2015-08-01T00:00:00",
          "2015-09-01T00:00:00",
          "2015-10-01T00:00:00",
          "2015-11-01T00:00:00",
          "2015-12-01T00:00:00",
          "2016-01-01T00:00:00",
          "2016-02-01T00:00:00",
          "2016-03-01T00:00:00",
          "2016-04-01T00:00:00",
          "2016-05-01T00:00:00",
          "2016-06-01T00:00:00",
          "2016-07-01T00:00:00",
          "2016-08-01T00:00:00",
          "2016-09-01T00:00:00",
          "2016-10-01T00:00:00",
          "2016-11-01T00:00:00",
          "2016-12-01T00:00:00",
          "2017-01-01T00:00:00",
          "2017-02-01T00:00:00",
          "2017-03-01T00:00:00",
          "2017-04-01T00:00:00",
          "2017-05-01T00:00:00",
          "2017-06-01T00:00:00",
          "2017-07-01T00:00:00",
          "2017-08-01T00:00:00",
          "2017-09-01T00:00:00",
          "2017-10-01T00:00:00",
          "2017-11-01T00:00:00",
          "2017-12-01T00:00:00",
          "2018-01-01T00:00:00",
          "2018-02-01T00:00:00",
          "2018-03-01T00:00:00"
         ],
         "xaxis": "x",
         "y": [
          31653932.49999999,
          34054504.42000004,
          42838448.330000006,
          36339868.260000065,
          49395219.86999998,
          44132076.60000001,
          40497075.230000004,
          43493994.96000001,
          34999423.96000005,
          34631267.56,
          46113961.48999996,
          43492996.61999996,
          81692950.32999994,
          74083647.45,
          69596023.83999999,
          73062334.13,
          99952465.9900001,
          75204610.40000005,
          95633027.8099999,
          73544095.01000006,
          72772991.58999993,
          78130149.10000007,
          53985195.69000005,
          71353545.08999996,
          107109771.76,
          92506116.63000001,
          76808636.66000006,
          108488234.31000014,
          94816437.23999996,
          92316997.46999995,
          97654305.03999995,
          68168867.66999993,
          55446119.63000006,
          72380146.50999989,
          69227222.37999994,
          93701356.20999998,
          89331108.72999997,
          107445798.28000002,
          108520093.69000009
         ],
         "yaxis": "y"
        }
       ],
       "layout": {
        "legend": {
         "tracegroupgap": 0
        },
        "template": {
         "data": {
          "bar": [
           {
            "error_x": {
             "color": "#2a3f5f"
            },
            "error_y": {
             "color": "#2a3f5f"
            },
            "marker": {
             "line": {
              "color": "#E5ECF6",
              "width": 0.5
             },
             "pattern": {
              "fillmode": "overlay",
              "size": 10,
              "solidity": 0.2
             }
            },
            "type": "bar"
           }
          ],
          "barpolar": [
           {
            "marker": {
             "line": {
              "color": "#E5ECF6",
              "width": 0.5
             },
             "pattern": {
              "fillmode": "overlay",
              "size": 10,
              "solidity": 0.2
             }
            },
            "type": "barpolar"
           }
          ],
          "carpet": [
           {
            "aaxis": {
             "endlinecolor": "#2a3f5f",
             "gridcolor": "white",
             "linecolor": "white",
             "minorgridcolor": "white",
             "startlinecolor": "#2a3f5f"
            },
            "baxis": {
             "endlinecolor": "#2a3f5f",
             "gridcolor": "white",
             "linecolor": "white",
             "minorgridcolor": "white",
             "startlinecolor": "#2a3f5f"
            },
            "type": "carpet"
           }
          ],
          "choropleth": [
           {
            "colorbar": {
             "outlinewidth": 0,
             "ticks": ""
            },
            "type": "choropleth"
           }
          ],
          "contour": [
           {
            "colorbar": {
             "outlinewidth": 0,
             "ticks": ""
            },
            "colorscale": [
             [
              0,
              "#0d0887"
             ],
             [
              0.1111111111111111,
              "#46039f"
             ],
             [
              0.2222222222222222,
              "#7201a8"
             ],
             [
              0.3333333333333333,
              "#9c179e"
             ],
             [
              0.4444444444444444,
              "#bd3786"
             ],
             [
              0.5555555555555556,
              "#d8576b"
             ],
             [
              0.6666666666666666,
              "#ed7953"
             ],
             [
              0.7777777777777778,
              "#fb9f3a"
             ],
             [
              0.8888888888888888,
              "#fdca26"
             ],
             [
              1,
              "#f0f921"
             ]
            ],
            "type": "contour"
           }
          ],
          "contourcarpet": [
           {
            "colorbar": {
             "outlinewidth": 0,
             "ticks": ""
            },
            "type": "contourcarpet"
           }
          ],
          "heatmap": [
           {
            "colorbar": {
             "outlinewidth": 0,
             "ticks": ""
            },
            "colorscale": [
             [
              0,
              "#0d0887"
             ],
             [
              0.1111111111111111,
              "#46039f"
             ],
             [
              0.2222222222222222,
              "#7201a8"
             ],
             [
              0.3333333333333333,
              "#9c179e"
             ],
             [
              0.4444444444444444,
              "#bd3786"
             ],
             [
              0.5555555555555556,
              "#d8576b"
             ],
             [
              0.6666666666666666,
              "#ed7953"
             ],
             [
              0.7777777777777778,
              "#fb9f3a"
             ],
             [
              0.8888888888888888,
              "#fdca26"
             ],
             [
              1,
              "#f0f921"
             ]
            ],
            "type": "heatmap"
           }
          ],
          "heatmapgl": [
           {
            "colorbar": {
             "outlinewidth": 0,
             "ticks": ""
            },
            "colorscale": [
             [
              0,
              "#0d0887"
             ],
             [
              0.1111111111111111,
              "#46039f"
             ],
             [
              0.2222222222222222,
              "#7201a8"
             ],
             [
              0.3333333333333333,
              "#9c179e"
             ],
             [
              0.4444444444444444,
              "#bd3786"
             ],
             [
              0.5555555555555556,
              "#d8576b"
             ],
             [
              0.6666666666666666,
              "#ed7953"
             ],
             [
              0.7777777777777778,
              "#fb9f3a"
             ],
             [
              0.8888888888888888,
              "#fdca26"
             ],
             [
              1,
              "#f0f921"
             ]
            ],
            "type": "heatmapgl"
           }
          ],
          "histogram": [
           {
            "marker": {
             "pattern": {
              "fillmode": "overlay",
              "size": 10,
              "solidity": 0.2
             }
            },
            "type": "histogram"
           }
          ],
          "histogram2d": [
           {
            "colorbar": {
             "outlinewidth": 0,
             "ticks": ""
            },
            "colorscale": [
             [
              0,
              "#0d0887"
             ],
             [
              0.1111111111111111,
              "#46039f"
             ],
             [
              0.2222222222222222,
              "#7201a8"
             ],
             [
              0.3333333333333333,
              "#9c179e"
             ],
             [
              0.4444444444444444,
              "#bd3786"
             ],
             [
              0.5555555555555556,
              "#d8576b"
             ],
             [
              0.6666666666666666,
              "#ed7953"
             ],
             [
              0.7777777777777778,
              "#fb9f3a"
             ],
             [
              0.8888888888888888,
              "#fdca26"
             ],
             [
              1,
              "#f0f921"
             ]
            ],
            "type": "histogram2d"
           }
          ],
          "histogram2dcontour": [
           {
            "colorbar": {
             "outlinewidth": 0,
             "ticks": ""
            },
            "colorscale": [
             [
              0,
              "#0d0887"
             ],
             [
              0.1111111111111111,
              "#46039f"
             ],
             [
              0.2222222222222222,
              "#7201a8"
             ],
             [
              0.3333333333333333,
              "#9c179e"
             ],
             [
              0.4444444444444444,
              "#bd3786"
             ],
             [
              0.5555555555555556,
              "#d8576b"
             ],
             [
              0.6666666666666666,
              "#ed7953"
             ],
             [
              0.7777777777777778,
              "#fb9f3a"
             ],
             [
              0.8888888888888888,
              "#fdca26"
             ],
             [
              1,
              "#f0f921"
             ]
            ],
            "type": "histogram2dcontour"
           }
          ],
          "mesh3d": [
           {
            "colorbar": {
             "outlinewidth": 0,
             "ticks": ""
            },
            "type": "mesh3d"
           }
          ],
          "parcoords": [
           {
            "line": {
             "colorbar": {
              "outlinewidth": 0,
              "ticks": ""
             }
            },
            "type": "parcoords"
           }
          ],
          "pie": [
           {
            "automargin": true,
            "type": "pie"
           }
          ],
          "scatter": [
           {
            "fillpattern": {
             "fillmode": "overlay",
             "size": 10,
             "solidity": 0.2
            },
            "type": "scatter"
           }
          ],
          "scatter3d": [
           {
            "line": {
             "colorbar": {
              "outlinewidth": 0,
              "ticks": ""
             }
            },
            "marker": {
             "colorbar": {
              "outlinewidth": 0,
              "ticks": ""
             }
            },
            "type": "scatter3d"
           }
          ],
          "scattercarpet": [
           {
            "marker": {
             "colorbar": {
              "outlinewidth": 0,
              "ticks": ""
             }
            },
            "type": "scattercarpet"
           }
          ],
          "scattergeo": [
           {
            "marker": {
             "colorbar": {
              "outlinewidth": 0,
              "ticks": ""
             }
            },
            "type": "scattergeo"
           }
          ],
          "scattergl": [
           {
            "marker": {
             "colorbar": {
              "outlinewidth": 0,
              "ticks": ""
             }
            },
            "type": "scattergl"
           }
          ],
          "scattermapbox": [
           {
            "marker": {
             "colorbar": {
              "outlinewidth": 0,
              "ticks": ""
             }
            },
            "type": "scattermapbox"
           }
          ],
          "scatterpolar": [
           {
            "marker": {
             "colorbar": {
              "outlinewidth": 0,
              "ticks": ""
             }
            },
            "type": "scatterpolar"
           }
          ],
          "scatterpolargl": [
           {
            "marker": {
             "colorbar": {
              "outlinewidth": 0,
              "ticks": ""
             }
            },
            "type": "scatterpolargl"
           }
          ],
          "scatterternary": [
           {
            "marker": {
             "colorbar": {
              "outlinewidth": 0,
              "ticks": ""
             }
            },
            "type": "scatterternary"
           }
          ],
          "surface": [
           {
            "colorbar": {
             "outlinewidth": 0,
             "ticks": ""
            },
            "colorscale": [
             [
              0,
              "#0d0887"
             ],
             [
              0.1111111111111111,
              "#46039f"
             ],
             [
              0.2222222222222222,
              "#7201a8"
             ],
             [
              0.3333333333333333,
              "#9c179e"
             ],
             [
              0.4444444444444444,
              "#bd3786"
             ],
             [
              0.5555555555555556,
              "#d8576b"
             ],
             [
              0.6666666666666666,
              "#ed7953"
             ],
             [
              0.7777777777777778,
              "#fb9f3a"
             ],
             [
              0.8888888888888888,
              "#fdca26"
             ],
             [
              1,
              "#f0f921"
             ]
            ],
            "type": "surface"
           }
          ],
          "table": [
           {
            "cells": {
             "fill": {
              "color": "#EBF0F8"
             },
             "line": {
              "color": "white"
             }
            },
            "header": {
             "fill": {
              "color": "#C8D4E3"
             },
             "line": {
              "color": "white"
             }
            },
            "type": "table"
           }
          ]
         },
         "layout": {
          "annotationdefaults": {
           "arrowcolor": "#2a3f5f",
           "arrowhead": 0,
           "arrowwidth": 1
          },
          "autotypenumbers": "strict",
          "coloraxis": {
           "colorbar": {
            "outlinewidth": 0,
            "ticks": ""
           }
          },
          "colorscale": {
           "diverging": [
            [
             0,
             "#8e0152"
            ],
            [
             0.1,
             "#c51b7d"
            ],
            [
             0.2,
             "#de77ae"
            ],
            [
             0.3,
             "#f1b6da"
            ],
            [
             0.4,
             "#fde0ef"
            ],
            [
             0.5,
             "#f7f7f7"
            ],
            [
             0.6,
             "#e6f5d0"
            ],
            [
             0.7,
             "#b8e186"
            ],
            [
             0.8,
             "#7fbc41"
            ],
            [
             0.9,
             "#4d9221"
            ],
            [
             1,
             "#276419"
            ]
           ],
           "sequential": [
            [
             0,
             "#0d0887"
            ],
            [
             0.1111111111111111,
             "#46039f"
            ],
            [
             0.2222222222222222,
             "#7201a8"
            ],
            [
             0.3333333333333333,
             "#9c179e"
            ],
            [
             0.4444444444444444,
             "#bd3786"
            ],
            [
             0.5555555555555556,
             "#d8576b"
            ],
            [
             0.6666666666666666,
             "#ed7953"
            ],
            [
             0.7777777777777778,
             "#fb9f3a"
            ],
            [
             0.8888888888888888,
             "#fdca26"
            ],
            [
             1,
             "#f0f921"
            ]
           ],
           "sequentialminus": [
            [
             0,
             "#0d0887"
            ],
            [
             0.1111111111111111,
             "#46039f"
            ],
            [
             0.2222222222222222,
             "#7201a8"
            ],
            [
             0.3333333333333333,
             "#9c179e"
            ],
            [
             0.4444444444444444,
             "#bd3786"
            ],
            [
             0.5555555555555556,
             "#d8576b"
            ],
            [
             0.6666666666666666,
             "#ed7953"
            ],
            [
             0.7777777777777778,
             "#fb9f3a"
            ],
            [
             0.8888888888888888,
             "#fdca26"
            ],
            [
             1,
             "#f0f921"
            ]
           ]
          },
          "colorway": [
           "#636efa",
           "#EF553B",
           "#00cc96",
           "#ab63fa",
           "#FFA15A",
           "#19d3f3",
           "#FF6692",
           "#B6E880",
           "#FF97FF",
           "#FECB52"
          ],
          "font": {
           "color": "#2a3f5f"
          },
          "geo": {
           "bgcolor": "white",
           "lakecolor": "white",
           "landcolor": "#E5ECF6",
           "showlakes": true,
           "showland": true,
           "subunitcolor": "white"
          },
          "hoverlabel": {
           "align": "left"
          },
          "hovermode": "closest",
          "mapbox": {
           "style": "light"
          },
          "paper_bgcolor": "white",
          "plot_bgcolor": "#E5ECF6",
          "polar": {
           "angularaxis": {
            "gridcolor": "white",
            "linecolor": "white",
            "ticks": ""
           },
           "bgcolor": "#E5ECF6",
           "radialaxis": {
            "gridcolor": "white",
            "linecolor": "white",
            "ticks": ""
           }
          },
          "scene": {
           "xaxis": {
            "backgroundcolor": "#E5ECF6",
            "gridcolor": "white",
            "gridwidth": 2,
            "linecolor": "white",
            "showbackground": true,
            "ticks": "",
            "zerolinecolor": "white"
           },
           "yaxis": {
            "backgroundcolor": "#E5ECF6",
            "gridcolor": "white",
            "gridwidth": 2,
            "linecolor": "white",
            "showbackground": true,
            "ticks": "",
            "zerolinecolor": "white"
           },
           "zaxis": {
            "backgroundcolor": "#E5ECF6",
            "gridcolor": "white",
            "gridwidth": 2,
            "linecolor": "white",
            "showbackground": true,
            "ticks": "",
            "zerolinecolor": "white"
           }
          },
          "shapedefaults": {
           "line": {
            "color": "#2a3f5f"
           }
          },
          "ternary": {
           "aaxis": {
            "gridcolor": "white",
            "linecolor": "white",
            "ticks": ""
           },
           "baxis": {
            "gridcolor": "white",
            "linecolor": "white",
            "ticks": ""
           },
           "bgcolor": "#E5ECF6",
           "caxis": {
            "gridcolor": "white",
            "linecolor": "white",
            "ticks": ""
           }
          },
          "title": {
           "x": 0.05
          },
          "xaxis": {
           "automargin": true,
           "gridcolor": "white",
           "linecolor": "white",
           "ticks": "",
           "title": {
            "standoff": 15
           },
           "zerolinecolor": "white",
           "zerolinewidth": 2
          },
          "yaxis": {
           "automargin": true,
           "gridcolor": "white",
           "linecolor": "white",
           "ticks": "",
           "title": {
            "standoff": 15
           },
           "zerolinecolor": "white",
           "zerolinewidth": 2
          }
         }
        },
        "title": {
         "text": "Total Bags by time"
        },
        "xaxis": {
         "anchor": "y",
         "domain": [
          0,
          1
         ],
         "title": {
          "text": "x"
         }
        },
        "yaxis": {
         "anchor": "x",
         "domain": [
          0,
          1
         ],
         "title": {
          "text": "y"
         }
        }
       }
      },
      "text/html": [
       "<div>                            <div id=\"fd7fe851-ef38-4ed6-8d02-536325362930\" class=\"plotly-graph-div\" style=\"height:525px; width:100%;\"></div>            <script type=\"text/javascript\">                require([\"plotly\"], function(Plotly) {                    window.PLOTLYENV=window.PLOTLYENV || {};                                    if (document.getElementById(\"fd7fe851-ef38-4ed6-8d02-536325362930\")) {                    Plotly.newPlot(                        \"fd7fe851-ef38-4ed6-8d02-536325362930\",                        [{\"hovertemplate\":\"x=%{x}<br>y=%{y}<extra></extra>\",\"legendgroup\":\"\",\"line\":{\"color\":\"#636efa\",\"dash\":\"solid\"},\"marker\":{\"symbol\":\"circle\"},\"mode\":\"lines\",\"name\":\"\",\"orientation\":\"v\",\"showlegend\":false,\"x\":[\"2015-01-01T00:00:00\",\"2015-02-01T00:00:00\",\"2015-03-01T00:00:00\",\"2015-04-01T00:00:00\",\"2015-05-01T00:00:00\",\"2015-06-01T00:00:00\",\"2015-07-01T00:00:00\",\"2015-08-01T00:00:00\",\"2015-09-01T00:00:00\",\"2015-10-01T00:00:00\",\"2015-11-01T00:00:00\",\"2015-12-01T00:00:00\",\"2016-01-01T00:00:00\",\"2016-02-01T00:00:00\",\"2016-03-01T00:00:00\",\"2016-04-01T00:00:00\",\"2016-05-01T00:00:00\",\"2016-06-01T00:00:00\",\"2016-07-01T00:00:00\",\"2016-08-01T00:00:00\",\"2016-09-01T00:00:00\",\"2016-10-01T00:00:00\",\"2016-11-01T00:00:00\",\"2016-12-01T00:00:00\",\"2017-01-01T00:00:00\",\"2017-02-01T00:00:00\",\"2017-03-01T00:00:00\",\"2017-04-01T00:00:00\",\"2017-05-01T00:00:00\",\"2017-06-01T00:00:00\",\"2017-07-01T00:00:00\",\"2017-08-01T00:00:00\",\"2017-09-01T00:00:00\",\"2017-10-01T00:00:00\",\"2017-11-01T00:00:00\",\"2017-12-01T00:00:00\",\"2018-01-01T00:00:00\",\"2018-02-01T00:00:00\",\"2018-03-01T00:00:00\"],\"xaxis\":\"x\",\"y\":[31653932.49999999,34054504.42000004,42838448.330000006,36339868.260000065,49395219.86999998,44132076.60000001,40497075.230000004,43493994.96000001,34999423.96000005,34631267.56,46113961.48999996,43492996.61999996,81692950.32999994,74083647.45,69596023.83999999,73062334.13,99952465.9900001,75204610.40000005,95633027.8099999,73544095.01000006,72772991.58999993,78130149.10000007,53985195.69000005,71353545.08999996,107109771.76,92506116.63000001,76808636.66000006,108488234.31000014,94816437.23999996,92316997.46999995,97654305.03999995,68168867.66999993,55446119.63000006,72380146.50999989,69227222.37999994,93701356.20999998,89331108.72999997,107445798.28000002,108520093.69000009],\"yaxis\":\"y\",\"type\":\"scatter\"}],                        {\"template\":{\"data\":{\"histogram2dcontour\":[{\"type\":\"histogram2dcontour\",\"colorbar\":{\"outlinewidth\":0,\"ticks\":\"\"},\"colorscale\":[[0.0,\"#0d0887\"],[0.1111111111111111,\"#46039f\"],[0.2222222222222222,\"#7201a8\"],[0.3333333333333333,\"#9c179e\"],[0.4444444444444444,\"#bd3786\"],[0.5555555555555556,\"#d8576b\"],[0.6666666666666666,\"#ed7953\"],[0.7777777777777778,\"#fb9f3a\"],[0.8888888888888888,\"#fdca26\"],[1.0,\"#f0f921\"]]}],\"choropleth\":[{\"type\":\"choropleth\",\"colorbar\":{\"outlinewidth\":0,\"ticks\":\"\"}}],\"histogram2d\":[{\"type\":\"histogram2d\",\"colorbar\":{\"outlinewidth\":0,\"ticks\":\"\"},\"colorscale\":[[0.0,\"#0d0887\"],[0.1111111111111111,\"#46039f\"],[0.2222222222222222,\"#7201a8\"],[0.3333333333333333,\"#9c179e\"],[0.4444444444444444,\"#bd3786\"],[0.5555555555555556,\"#d8576b\"],[0.6666666666666666,\"#ed7953\"],[0.7777777777777778,\"#fb9f3a\"],[0.8888888888888888,\"#fdca26\"],[1.0,\"#f0f921\"]]}],\"heatmap\":[{\"type\":\"heatmap\",\"colorbar\":{\"outlinewidth\":0,\"ticks\":\"\"},\"colorscale\":[[0.0,\"#0d0887\"],[0.1111111111111111,\"#46039f\"],[0.2222222222222222,\"#7201a8\"],[0.3333333333333333,\"#9c179e\"],[0.4444444444444444,\"#bd3786\"],[0.5555555555555556,\"#d8576b\"],[0.6666666666666666,\"#ed7953\"],[0.7777777777777778,\"#fb9f3a\"],[0.8888888888888888,\"#fdca26\"],[1.0,\"#f0f921\"]]}],\"heatmapgl\":[{\"type\":\"heatmapgl\",\"colorbar\":{\"outlinewidth\":0,\"ticks\":\"\"},\"colorscale\":[[0.0,\"#0d0887\"],[0.1111111111111111,\"#46039f\"],[0.2222222222222222,\"#7201a8\"],[0.3333333333333333,\"#9c179e\"],[0.4444444444444444,\"#bd3786\"],[0.5555555555555556,\"#d8576b\"],[0.6666666666666666,\"#ed7953\"],[0.7777777777777778,\"#fb9f3a\"],[0.8888888888888888,\"#fdca26\"],[1.0,\"#f0f921\"]]}],\"contourcarpet\":[{\"type\":\"contourcarpet\",\"colorbar\":{\"outlinewidth\":0,\"ticks\":\"\"}}],\"contour\":[{\"type\":\"contour\",\"colorbar\":{\"outlinewidth\":0,\"ticks\":\"\"},\"colorscale\":[[0.0,\"#0d0887\"],[0.1111111111111111,\"#46039f\"],[0.2222222222222222,\"#7201a8\"],[0.3333333333333333,\"#9c179e\"],[0.4444444444444444,\"#bd3786\"],[0.5555555555555556,\"#d8576b\"],[0.6666666666666666,\"#ed7953\"],[0.7777777777777778,\"#fb9f3a\"],[0.8888888888888888,\"#fdca26\"],[1.0,\"#f0f921\"]]}],\"surface\":[{\"type\":\"surface\",\"colorbar\":{\"outlinewidth\":0,\"ticks\":\"\"},\"colorscale\":[[0.0,\"#0d0887\"],[0.1111111111111111,\"#46039f\"],[0.2222222222222222,\"#7201a8\"],[0.3333333333333333,\"#9c179e\"],[0.4444444444444444,\"#bd3786\"],[0.5555555555555556,\"#d8576b\"],[0.6666666666666666,\"#ed7953\"],[0.7777777777777778,\"#fb9f3a\"],[0.8888888888888888,\"#fdca26\"],[1.0,\"#f0f921\"]]}],\"mesh3d\":[{\"type\":\"mesh3d\",\"colorbar\":{\"outlinewidth\":0,\"ticks\":\"\"}}],\"scatter\":[{\"fillpattern\":{\"fillmode\":\"overlay\",\"size\":10,\"solidity\":0.2},\"type\":\"scatter\"}],\"parcoords\":[{\"type\":\"parcoords\",\"line\":{\"colorbar\":{\"outlinewidth\":0,\"ticks\":\"\"}}}],\"scatterpolargl\":[{\"type\":\"scatterpolargl\",\"marker\":{\"colorbar\":{\"outlinewidth\":0,\"ticks\":\"\"}}}],\"bar\":[{\"error_x\":{\"color\":\"#2a3f5f\"},\"error_y\":{\"color\":\"#2a3f5f\"},\"marker\":{\"line\":{\"color\":\"#E5ECF6\",\"width\":0.5},\"pattern\":{\"fillmode\":\"overlay\",\"size\":10,\"solidity\":0.2}},\"type\":\"bar\"}],\"scattergeo\":[{\"type\":\"scattergeo\",\"marker\":{\"colorbar\":{\"outlinewidth\":0,\"ticks\":\"\"}}}],\"scatterpolar\":[{\"type\":\"scatterpolar\",\"marker\":{\"colorbar\":{\"outlinewidth\":0,\"ticks\":\"\"}}}],\"histogram\":[{\"marker\":{\"pattern\":{\"fillmode\":\"overlay\",\"size\":10,\"solidity\":0.2}},\"type\":\"histogram\"}],\"scattergl\":[{\"type\":\"scattergl\",\"marker\":{\"colorbar\":{\"outlinewidth\":0,\"ticks\":\"\"}}}],\"scatter3d\":[{\"type\":\"scatter3d\",\"line\":{\"colorbar\":{\"outlinewidth\":0,\"ticks\":\"\"}},\"marker\":{\"colorbar\":{\"outlinewidth\":0,\"ticks\":\"\"}}}],\"scattermapbox\":[{\"type\":\"scattermapbox\",\"marker\":{\"colorbar\":{\"outlinewidth\":0,\"ticks\":\"\"}}}],\"scatterternary\":[{\"type\":\"scatterternary\",\"marker\":{\"colorbar\":{\"outlinewidth\":0,\"ticks\":\"\"}}}],\"scattercarpet\":[{\"type\":\"scattercarpet\",\"marker\":{\"colorbar\":{\"outlinewidth\":0,\"ticks\":\"\"}}}],\"carpet\":[{\"aaxis\":{\"endlinecolor\":\"#2a3f5f\",\"gridcolor\":\"white\",\"linecolor\":\"white\",\"minorgridcolor\":\"white\",\"startlinecolor\":\"#2a3f5f\"},\"baxis\":{\"endlinecolor\":\"#2a3f5f\",\"gridcolor\":\"white\",\"linecolor\":\"white\",\"minorgridcolor\":\"white\",\"startlinecolor\":\"#2a3f5f\"},\"type\":\"carpet\"}],\"table\":[{\"cells\":{\"fill\":{\"color\":\"#EBF0F8\"},\"line\":{\"color\":\"white\"}},\"header\":{\"fill\":{\"color\":\"#C8D4E3\"},\"line\":{\"color\":\"white\"}},\"type\":\"table\"}],\"barpolar\":[{\"marker\":{\"line\":{\"color\":\"#E5ECF6\",\"width\":0.5},\"pattern\":{\"fillmode\":\"overlay\",\"size\":10,\"solidity\":0.2}},\"type\":\"barpolar\"}],\"pie\":[{\"automargin\":true,\"type\":\"pie\"}]},\"layout\":{\"autotypenumbers\":\"strict\",\"colorway\":[\"#636efa\",\"#EF553B\",\"#00cc96\",\"#ab63fa\",\"#FFA15A\",\"#19d3f3\",\"#FF6692\",\"#B6E880\",\"#FF97FF\",\"#FECB52\"],\"font\":{\"color\":\"#2a3f5f\"},\"hovermode\":\"closest\",\"hoverlabel\":{\"align\":\"left\"},\"paper_bgcolor\":\"white\",\"plot_bgcolor\":\"#E5ECF6\",\"polar\":{\"bgcolor\":\"#E5ECF6\",\"angularaxis\":{\"gridcolor\":\"white\",\"linecolor\":\"white\",\"ticks\":\"\"},\"radialaxis\":{\"gridcolor\":\"white\",\"linecolor\":\"white\",\"ticks\":\"\"}},\"ternary\":{\"bgcolor\":\"#E5ECF6\",\"aaxis\":{\"gridcolor\":\"white\",\"linecolor\":\"white\",\"ticks\":\"\"},\"baxis\":{\"gridcolor\":\"white\",\"linecolor\":\"white\",\"ticks\":\"\"},\"caxis\":{\"gridcolor\":\"white\",\"linecolor\":\"white\",\"ticks\":\"\"}},\"coloraxis\":{\"colorbar\":{\"outlinewidth\":0,\"ticks\":\"\"}},\"colorscale\":{\"sequential\":[[0.0,\"#0d0887\"],[0.1111111111111111,\"#46039f\"],[0.2222222222222222,\"#7201a8\"],[0.3333333333333333,\"#9c179e\"],[0.4444444444444444,\"#bd3786\"],[0.5555555555555556,\"#d8576b\"],[0.6666666666666666,\"#ed7953\"],[0.7777777777777778,\"#fb9f3a\"],[0.8888888888888888,\"#fdca26\"],[1.0,\"#f0f921\"]],\"sequentialminus\":[[0.0,\"#0d0887\"],[0.1111111111111111,\"#46039f\"],[0.2222222222222222,\"#7201a8\"],[0.3333333333333333,\"#9c179e\"],[0.4444444444444444,\"#bd3786\"],[0.5555555555555556,\"#d8576b\"],[0.6666666666666666,\"#ed7953\"],[0.7777777777777778,\"#fb9f3a\"],[0.8888888888888888,\"#fdca26\"],[1.0,\"#f0f921\"]],\"diverging\":[[0,\"#8e0152\"],[0.1,\"#c51b7d\"],[0.2,\"#de77ae\"],[0.3,\"#f1b6da\"],[0.4,\"#fde0ef\"],[0.5,\"#f7f7f7\"],[0.6,\"#e6f5d0\"],[0.7,\"#b8e186\"],[0.8,\"#7fbc41\"],[0.9,\"#4d9221\"],[1,\"#276419\"]]},\"xaxis\":{\"gridcolor\":\"white\",\"linecolor\":\"white\",\"ticks\":\"\",\"title\":{\"standoff\":15},\"zerolinecolor\":\"white\",\"automargin\":true,\"zerolinewidth\":2},\"yaxis\":{\"gridcolor\":\"white\",\"linecolor\":\"white\",\"ticks\":\"\",\"title\":{\"standoff\":15},\"zerolinecolor\":\"white\",\"automargin\":true,\"zerolinewidth\":2},\"scene\":{\"xaxis\":{\"backgroundcolor\":\"#E5ECF6\",\"gridcolor\":\"white\",\"linecolor\":\"white\",\"showbackground\":true,\"ticks\":\"\",\"zerolinecolor\":\"white\",\"gridwidth\":2},\"yaxis\":{\"backgroundcolor\":\"#E5ECF6\",\"gridcolor\":\"white\",\"linecolor\":\"white\",\"showbackground\":true,\"ticks\":\"\",\"zerolinecolor\":\"white\",\"gridwidth\":2},\"zaxis\":{\"backgroundcolor\":\"#E5ECF6\",\"gridcolor\":\"white\",\"linecolor\":\"white\",\"showbackground\":true,\"ticks\":\"\",\"zerolinecolor\":\"white\",\"gridwidth\":2}},\"shapedefaults\":{\"line\":{\"color\":\"#2a3f5f\"}},\"annotationdefaults\":{\"arrowcolor\":\"#2a3f5f\",\"arrowhead\":0,\"arrowwidth\":1},\"geo\":{\"bgcolor\":\"white\",\"landcolor\":\"#E5ECF6\",\"subunitcolor\":\"white\",\"showland\":true,\"showlakes\":true,\"lakecolor\":\"white\"},\"title\":{\"x\":0.05},\"mapbox\":{\"style\":\"light\"}}},\"xaxis\":{\"anchor\":\"y\",\"domain\":[0.0,1.0],\"title\":{\"text\":\"x\"}},\"yaxis\":{\"anchor\":\"x\",\"domain\":[0.0,1.0],\"title\":{\"text\":\"y\"}},\"legend\":{\"tracegroupgap\":0},\"title\":{\"text\":\"Total Bags by time\"}},                        {\"responsive\": true}                    ).then(function(){\n",
       "                            \n",
       "var gd = document.getElementById('fd7fe851-ef38-4ed6-8d02-536325362930');\n",
       "var x = new MutationObserver(function (mutations, observer) {{\n",
       "        var display = window.getComputedStyle(gd).display;\n",
       "        if (!display || display === 'none') {{\n",
       "            console.log([gd, 'removed!']);\n",
       "            Plotly.purge(gd);\n",
       "            observer.disconnect();\n",
       "        }}\n",
       "}});\n",
       "\n",
       "// Listen for the removal of the full notebook cells\n",
       "var notebookContainer = gd.closest('#notebook-container');\n",
       "if (notebookContainer) {{\n",
       "    x.observe(notebookContainer, {childList: true});\n",
       "}}\n",
       "\n",
       "// Listen for the clearing of the current output cell\n",
       "var outputEl = gd.closest('.output');\n",
       "if (outputEl) {{\n",
       "    x.observe(outputEl, {childList: true});\n",
       "}}\n",
       "\n",
       "                        })                };                });            </script>        </div>"
      ]
     },
     "metadata": {},
     "output_type": "display_data"
    }
   ],
   "source": [
    "px.line(x=avocado_by_date.index.to_timestamp(),\n",
    "        y=avocado_by_date['Total Bags'],\n",
    "        title=\"Total Bags by time\")"
   ]
  },
  {
   "cell_type": "code",
   "execution_count": 203,
   "id": "cab9c514",
   "metadata": {},
   "outputs": [
    {
     "data": {
      "text/html": [
       "<div>\n",
       "<style scoped>\n",
       "    .dataframe tbody tr th:only-of-type {\n",
       "        vertical-align: middle;\n",
       "    }\n",
       "\n",
       "    .dataframe tbody tr th {\n",
       "        vertical-align: top;\n",
       "    }\n",
       "\n",
       "    .dataframe thead th {\n",
       "        text-align: right;\n",
       "    }\n",
       "</style>\n",
       "<table border=\"1\" class=\"dataframe\">\n",
       "  <thead>\n",
       "    <tr style=\"text-align: right;\">\n",
       "      <th></th>\n",
       "      <th>Total Volume</th>\n",
       "      <th>4046</th>\n",
       "      <th>4225</th>\n",
       "      <th>4770</th>\n",
       "      <th>Total Bags</th>\n",
       "      <th>Small Bags</th>\n",
       "      <th>Large Bags</th>\n",
       "      <th>XLarge Bags</th>\n",
       "      <th>AveragePrice</th>\n",
       "    </tr>\n",
       "    <tr>\n",
       "      <th>region</th>\n",
       "      <th></th>\n",
       "      <th></th>\n",
       "      <th></th>\n",
       "      <th></th>\n",
       "      <th></th>\n",
       "      <th></th>\n",
       "      <th></th>\n",
       "      <th></th>\n",
       "      <th></th>\n",
       "    </tr>\n",
       "  </thead>\n",
       "  <tbody>\n",
       "    <tr>\n",
       "      <th>Albany</th>\n",
       "      <td>16067799.970</td>\n",
       "      <td>616539.640</td>\n",
       "      <td>12715968.390</td>\n",
       "      <td>55037.330</td>\n",
       "      <td>2680254.610</td>\n",
       "      <td>2246944.730</td>\n",
       "      <td>389881.720</td>\n",
       "      <td>43429.160</td>\n",
       "      <td>1.561</td>\n",
       "    </tr>\n",
       "    <tr>\n",
       "      <th>Atlanta</th>\n",
       "      <td>88605118.850</td>\n",
       "      <td>49387501.370</td>\n",
       "      <td>10551856.510</td>\n",
       "      <td>105248.390</td>\n",
       "      <td>28560513.580</td>\n",
       "      <td>17442735.840</td>\n",
       "      <td>10839675.060</td>\n",
       "      <td>278101.680</td>\n",
       "      <td>1.338</td>\n",
       "    </tr>\n",
       "    <tr>\n",
       "      <th>BaltimoreWashington</th>\n",
       "      <td>134713919.320</td>\n",
       "      <td>12051801.740</td>\n",
       "      <td>83142216.440</td>\n",
       "      <td>4213755.070</td>\n",
       "      <td>35306146.070</td>\n",
       "      <td>34117612.920</td>\n",
       "      <td>981546.790</td>\n",
       "      <td>206985.360</td>\n",
       "      <td>1.534</td>\n",
       "    </tr>\n",
       "    <tr>\n",
       "      <th>Boise</th>\n",
       "      <td>14413187.750</td>\n",
       "      <td>6766593.570</td>\n",
       "      <td>1170048.640</td>\n",
       "      <td>1077134.290</td>\n",
       "      <td>5399412.250</td>\n",
       "      <td>4677932.590</td>\n",
       "      <td>711028.320</td>\n",
       "      <td>10449.340</td>\n",
       "      <td>1.348</td>\n",
       "    </tr>\n",
       "    <tr>\n",
       "      <th>Boston</th>\n",
       "      <td>97273984.830</td>\n",
       "      <td>1688178.200</td>\n",
       "      <td>72406314.130</td>\n",
       "      <td>1684015.700</td>\n",
       "      <td>21495476.800</td>\n",
       "      <td>19910427.540</td>\n",
       "      <td>1500167.270</td>\n",
       "      <td>84879.990</td>\n",
       "      <td>1.531</td>\n",
       "    </tr>\n",
       "    <tr>\n",
       "      <th>...</th>\n",
       "      <td>...</td>\n",
       "      <td>...</td>\n",
       "      <td>...</td>\n",
       "      <td>...</td>\n",
       "      <td>...</td>\n",
       "      <td>...</td>\n",
       "      <td>...</td>\n",
       "      <td>...</td>\n",
       "      <td>...</td>\n",
       "    </tr>\n",
       "    <tr>\n",
       "      <th>StLouis</th>\n",
       "      <td>32072833.330</td>\n",
       "      <td>13510852.190</td>\n",
       "      <td>3799460.500</td>\n",
       "      <td>26488.670</td>\n",
       "      <td>14736030.970</td>\n",
       "      <td>11931855.920</td>\n",
       "      <td>2579377.160</td>\n",
       "      <td>224797.890</td>\n",
       "      <td>1.431</td>\n",
       "    </tr>\n",
       "    <tr>\n",
       "      <th>Syracuse</th>\n",
       "      <td>10942667.680</td>\n",
       "      <td>331788.660</td>\n",
       "      <td>6390340.990</td>\n",
       "      <td>28110.580</td>\n",
       "      <td>4192427.450</td>\n",
       "      <td>3645651.410</td>\n",
       "      <td>505015.100</td>\n",
       "      <td>41761.940</td>\n",
       "      <td>1.520</td>\n",
       "    </tr>\n",
       "    <tr>\n",
       "      <th>Tampa</th>\n",
       "      <td>66004539.310</td>\n",
       "      <td>35747751.850</td>\n",
       "      <td>10721107.040</td>\n",
       "      <td>38989.510</td>\n",
       "      <td>19496691.910</td>\n",
       "      <td>10608074.340</td>\n",
       "      <td>8653437.840</td>\n",
       "      <td>235178.730</td>\n",
       "      <td>1.409</td>\n",
       "    </tr>\n",
       "    <tr>\n",
       "      <th>West</th>\n",
       "      <td>1086779155.750</td>\n",
       "      <td>398590531.180</td>\n",
       "      <td>300758923.390</td>\n",
       "      <td>20356070.870</td>\n",
       "      <td>367073631.310</td>\n",
       "      <td>222709289.380</td>\n",
       "      <td>143531707.280</td>\n",
       "      <td>832634.650</td>\n",
       "      <td>1.272</td>\n",
       "    </tr>\n",
       "    <tr>\n",
       "      <th>WestTexNewMexico</th>\n",
       "      <td>144521839.780</td>\n",
       "      <td>84077385.850</td>\n",
       "      <td>22178463.220</td>\n",
       "      <td>2969474.180</td>\n",
       "      <td>35296515.530</td>\n",
       "      <td>19931756.290</td>\n",
       "      <td>15051247.190</td>\n",
       "      <td>313511.050</td>\n",
       "      <td>1.262</td>\n",
       "    </tr>\n",
       "  </tbody>\n",
       "</table>\n",
       "<p>53 rows × 9 columns</p>\n",
       "</div>"
      ],
      "text/plain": [
       "                      Total Volume          4046          4225         4770    Total Bags    Small Bags    Large Bags  XLarge Bags  AveragePrice\n",
       "region                                                                                                                                          \n",
       "Albany                16067799.970    616539.640  12715968.390    55037.330   2680254.610   2246944.730    389881.720    43429.160         1.561\n",
       "Atlanta               88605118.850  49387501.370  10551856.510   105248.390  28560513.580  17442735.840  10839675.060   278101.680         1.338\n",
       "BaltimoreWashington  134713919.320  12051801.740  83142216.440  4213755.070  35306146.070  34117612.920    981546.790   206985.360         1.534\n",
       "Boise                 14413187.750   6766593.570   1170048.640  1077134.290   5399412.250   4677932.590    711028.320    10449.340         1.348\n",
       "Boston                97273984.830   1688178.200  72406314.130  1684015.700  21495476.800  19910427.540   1500167.270    84879.990         1.531\n",
       "...                            ...           ...           ...          ...           ...           ...           ...          ...           ...\n",
       "StLouis               32072833.330  13510852.190   3799460.500    26488.670  14736030.970  11931855.920   2579377.160   224797.890         1.431\n",
       "Syracuse              10942667.680    331788.660   6390340.990    28110.580   4192427.450   3645651.410    505015.100    41761.940         1.520\n",
       "Tampa                 66004539.310  35747751.850  10721107.040    38989.510  19496691.910  10608074.340   8653437.840   235178.730         1.409\n",
       "West                1086779155.750 398590531.180 300758923.390 20356070.870 367073631.310 222709289.380 143531707.280   832634.650         1.272\n",
       "WestTexNewMexico     144521839.780  84077385.850  22178463.220  2969474.180  35296515.530  19931756.290  15051247.190   313511.050         1.262\n",
       "\n",
       "[53 rows x 9 columns]"
      ]
     },
     "execution_count": 203,
     "metadata": {},
     "output_type": "execute_result"
    }
   ],
   "source": [
    "avocado_by_region = df.groupby(['region']).aggregate({'Total Volume':'sum',\n",
    "                                                              '4046':'sum',\n",
    "                                                              '4225':'sum',\n",
    "                                                              '4770':'sum',\n",
    "                                                              'Total Bags':'sum',\n",
    "                                                              'Small Bags':'sum',\n",
    "                                                              'Large Bags':'sum',\n",
    "                                                              'XLarge Bags':'sum',\n",
    "                                                             'AveragePrice':'mean'})\n",
    "avocado_by_region"
   ]
  },
  {
   "cell_type": "code",
   "execution_count": 204,
   "id": "6b20c0fb",
   "metadata": {},
   "outputs": [
    {
     "data": {
      "image/png": "[encoded data removed]",
      "text/plain": [
       "<Figure size 432x288 with 1 Axes>"
      ]
     },
     "metadata": {
      "needs_background": "light"
     },
     "output_type": "display_data"
    }
   ],
   "source": [
    "import seaborn as sns\n",
    "sns.barplot(x=avocado_by_region.index,y=avocado_by_region['4046']).set(title=\"PLU 4046\")\n",
    "plt.xticks(rotation=90)\n",
    "plt.show()"
   ]
  },
  {
   "cell_type": "code",
   "execution_count": 205,
   "id": "6abf3488",
   "metadata": {},
   "outputs": [
    {
     "data": {
      "image/png": "[encoded data removed]",
      "text/plain": [
       "<Figure size 432x288 with 1 Axes>"
      ]
     },
     "metadata": {
      "needs_background": "light"
     },
     "output_type": "display_data"
    }
   ],
   "source": [
    "import seaborn as sns\n",
    "sns.barplot(x=avocado_by_region.index,y=avocado_by_region['4225']).set(title=\"PLU 4225\")\n",
    "plt.xticks(rotation=90)\n",
    "plt.show()"
   ]
  },
  {
   "cell_type": "code",
   "execution_count": 206,
   "id": "6c91fdc9",
   "metadata": {},
   "outputs": [
    {
     "data": {
      "image/png": "[encoded data removed]",
      "text/plain": [
       "<Figure size 432x288 with 1 Axes>"
      ]
     },
     "metadata": {
      "needs_background": "light"
     },
     "output_type": "display_data"
    }
   ],
   "source": [
    "import seaborn as sns\n",
    "sns.barplot(x=avocado_by_region.index,y=avocado_by_region['4770']).set(title=\"PLU 4770\")\n",
    "plt.xticks(rotation=90)\n",
    "plt.show()"
   ]
  },
  {
   "cell_type": "code",
   "execution_count": 207,
   "id": "f7fbee46",
   "metadata": {},
   "outputs": [
    {
     "data": {
      "image/png": "[encoded data removed]",
      "text/plain": [
       "<Figure size 432x288 with 1 Axes>"
      ]
     },
     "metadata": {
      "needs_background": "light"
     },
     "output_type": "display_data"
    }
   ],
   "source": [
    "import seaborn as sns\n",
    "sns.barplot(x=avocado_by_region.index,y=avocado_by_region['4770']).set(title=\"PLU 4770\")\n",
    "plt.xticks(rotation=90)\n",
    "plt.show()"
   ]
  },
  {
   "cell_type": "code",
   "execution_count": 208,
   "id": "63a5d1e3",
   "metadata": {},
   "outputs": [
    {
     "data": {
      "image/png": "[encoded data removed]",
      "text/plain": [
       "<Figure size 432x288 with 1 Axes>"
      ]
     },
     "metadata": {
      "needs_background": "light"
     },
     "output_type": "display_data"
    }
   ],
   "source": [
    "sns.barplot(x=avocado_by_region.index,y=avocado_by_region['Large Bags']).set(title=\"Large Bags\")\n",
    "plt.xticks(rotation=90)\n",
    "plt.show()"
   ]
  },
  {
   "cell_type": "code",
   "execution_count": 209,
   "id": "7e2e7017",
   "metadata": {},
   "outputs": [
    {
     "data": {
      "image/png": "[encoded data removed]",
      "text/plain": [
       "<Figure size 432x288 with 1 Axes>"
      ]
     },
     "metadata": {
      "needs_background": "light"
     },
     "output_type": "display_data"
    }
   ],
   "source": [
    "sns.barplot(x=avocado_by_region.index,y=avocado_by_region['XLarge Bags']).set(title=\"XLarge Bags\")\n",
    "plt.xticks(rotation=90)\n",
    "plt.show()"
   ]
  },
  {
   "cell_type": "code",
   "execution_count": 210,
   "id": "d31b81dd",
   "metadata": {},
   "outputs": [
    {
     "data": {
      "image/png": "[encoded data removed]",
      "text/plain": [
       "<Figure size 432x288 with 1 Axes>"
      ]
     },
     "metadata": {
      "needs_background": "light"
     },
     "output_type": "display_data"
    }
   ],
   "source": [
    "sns.barplot(x=avocado_by_region.index,y=avocado_by_region['Total Volume']).set(title=\"Total Volume\")\n",
    "plt.xticks(rotation=90)\n",
    "plt.show()"
   ]
  },
  {
   "cell_type": "code",
   "execution_count": 211,
   "id": "14aedc40",
   "metadata": {},
   "outputs": [
    {
     "data": {
      "image/png": "[encoded data removed]",
      "text/plain": [
       "<Figure size 432x288 with 1 Axes>"
      ]
     },
     "metadata": {
      "needs_background": "light"
     },
     "output_type": "display_data"
    }
   ],
   "source": [
    "sns.barplot(x=avocado_by_region.index,y=avocado_by_region['Total Bags']).set(title=\"Total Bags\")\n",
    "plt.xticks(rotation=90)\n",
    "plt.show()"
   ]
  },
  {
   "cell_type": "code",
   "execution_count": 212,
   "id": "8c30f901",
   "metadata": {},
   "outputs": [
    {
     "data": {
      "image/png": "[encoded data removed]",
      "text/plain": [
       "<Figure size 432x288 with 1 Axes>"
      ]
     },
     "metadata": {
      "needs_background": "light"
     },
     "output_type": "display_data"
    }
   ],
   "source": [
    "sns.barplot(x=avocado_by_region.index,y=avocado_by_region['AveragePrice']).set(title=\"Average Price\")\n",
    "plt.xticks(rotation=90)\n",
    "plt.show()"
   ]
  },
  {
   "cell_type": "code",
   "execution_count": 215,
   "id": "56b79e26",
   "metadata": {},
   "outputs": [
    {
     "name": "stdout",
     "output_type": "stream",
     "text": [
      "Observations: 17911\n",
      "Variables: 13\n",
      "cat_cols: 2\n",
      "num_cols: 10\n",
      "cat_but_car: 1\n",
      "num_but_cat: 1\n"
     ]
    }
   ],
   "source": [
    "df = pd.read_csv(\"avocado.csv\")\n",
    "df.drop(df.columns[0] , axis = 1 , inplace = True)\n",
    "df = df[df.region != \"TotalUS\"]\n",
    "df['Date'] = pd.to_datetime(df['Date'])\n",
    "cat_cols, num_cols, cat_but_car = grab_col_names(df)"
   ]
  },
  {
   "cell_type": "code",
   "execution_count": 216,
   "id": "a38b17da",
   "metadata": {},
   "outputs": [],
   "source": [
    "def outlier_thresholds(dataframe, col_name, q1=0.25, q3=0.75):\n",
    "    quartile1 = dataframe[col_name].quantile(q1)\n",
    "    quartile3 = dataframe[col_name].quantile(q3)\n",
    "    interquantile_range = quartile3 - quartile1\n",
    "    up_limit = quartile3 + 1.5 * interquantile_range\n",
    "    low_limit = quartile1 - 1.5 * interquantile_range\n",
    "    return low_limit, up_limit\n",
    "\n",
    "def replace_with_thresholds(dataframe, variable, q1=0.25, q3=0.75):\n",
    "    low_limit, up_limit = outlier_thresholds(dataframe, variable, q1, q3)\n",
    "    dataframe.loc[(dataframe[variable] < low_limit), variable] = low_limit\n",
    "    dataframe.loc[(dataframe[variable] > up_limit), variable] = up_limit\n",
    "\n",
    "\n",
    "def check_outlier(dataframe, col_name, q1=.25, q3=.75):\n",
    "    low_limit, up_limit = outlier_thresholds(dataframe, col_name, q1, q3)\n",
    "    if dataframe[(dataframe[col_name] > up_limit) | (dataframe[col_name] < low_limit)].any(axis=None):\n",
    "        return True\n",
    "    else:\n",
    "        return False"
   ]
  },
  {
   "cell_type": "code",
   "execution_count": 217,
   "id": "ac66dce3",
   "metadata": {},
   "outputs": [
    {
     "name": "stdout",
     "output_type": "stream",
     "text": [
      "Date False\n",
      "AveragePrice False\n",
      "Total Volume True\n",
      "4046 True\n",
      "4225 True\n",
      "4770 True\n",
      "Total Bags True\n",
      "Small Bags True\n",
      "Large Bags True\n",
      "XLarge Bags True\n"
     ]
    }
   ],
   "source": [
    "for col in num_cols:\n",
    "    print(col, check_outlier(df, col, q1=0.1, q3=0.9))"
   ]
  },
  {
   "cell_type": "code",
   "execution_count": 218,
   "id": "29bdba7e",
   "metadata": {},
   "outputs": [
    {
     "name": "stdout",
     "output_type": "stream",
     "text": [
      "Date False\n",
      "AveragePrice False\n",
      "Total Volume False\n",
      "4046 False\n",
      "4225 False\n",
      "4770 False\n",
      "Total Bags False\n",
      "Small Bags False\n",
      "Large Bags False\n",
      "XLarge Bags False\n"
     ]
    }
   ],
   "source": [
    "# AYKIRI DEĞERLERİ BASKILAMA\n",
    "for col in num_cols:\n",
    "    if check_outlier(df, col, q1=0.05, q3=0.95):\n",
    "        replace_with_thresholds(df, col, q1=0.05, q3=0.95)\n",
    "\n",
    "for col in num_cols:\n",
    "    print(col, check_outlier(df, col, q1=0.05, q3=0.95))"
   ]
  },
  {
   "cell_type": "code",
   "execution_count": 219,
   "id": "4c407f43",
   "metadata": {},
   "outputs": [],
   "source": [
    "df = pd.get_dummies(df, columns=[\"year\"], drop_first=True)"
   ]
  },
  {
   "cell_type": "code",
   "execution_count": 220,
   "id": "16d0ec9d",
   "metadata": {},
   "outputs": [],
   "source": [
    "def label_encoder(dataframe, binary_col):\n",
    "    labelencoder = LabelEncoder()\n",
    "    dataframe[binary_col] = labelencoder.fit_transform(dataframe[binary_col])\n",
    "    return dataframe"
   ]
  },
  {
   "cell_type": "code",
   "execution_count": 221,
   "id": "fe75f143",
   "metadata": {},
   "outputs": [
    {
     "data": {
      "text/plain": [
       "['type']"
      ]
     },
     "execution_count": 221,
     "metadata": {},
     "output_type": "execute_result"
    }
   ],
   "source": [
    "binary_cols = [col for col in df.columns if df[col].dtypes == \"O\" and df[col].nunique() == 2]\n",
    "binary_cols"
   ]
  },
  {
   "cell_type": "code",
   "execution_count": 222,
   "id": "69813cb7",
   "metadata": {},
   "outputs": [],
   "source": [
    "from sklearn.preprocessing import LabelEncoder"
   ]
  },
  {
   "cell_type": "code",
   "execution_count": 223,
   "id": "1c8527fc",
   "metadata": {},
   "outputs": [],
   "source": [
    "for col in binary_cols:\n",
    "    df = label_encoder(df, col)"
   ]
  },
  {
   "cell_type": "code",
   "execution_count": 224,
   "id": "8779c493",
   "metadata": {},
   "outputs": [
    {
     "data": {
      "text/html": [
       "<div>\n",
       "<style scoped>\n",
       "    .dataframe tbody tr th:only-of-type {\n",
       "        vertical-align: middle;\n",
       "    }\n",
       "\n",
       "    .dataframe tbody tr th {\n",
       "        vertical-align: top;\n",
       "    }\n",
       "\n",
       "    .dataframe thead th {\n",
       "        text-align: right;\n",
       "    }\n",
       "</style>\n",
       "<table border=\"1\" class=\"dataframe\">\n",
       "  <thead>\n",
       "    <tr style=\"text-align: right;\">\n",
       "      <th></th>\n",
       "      <th>Date</th>\n",
       "      <th>AveragePrice</th>\n",
       "      <th>Total Volume</th>\n",
       "      <th>4046</th>\n",
       "      <th>4225</th>\n",
       "      <th>4770</th>\n",
       "      <th>Total Bags</th>\n",
       "      <th>Small Bags</th>\n",
       "      <th>Large Bags</th>\n",
       "      <th>XLarge Bags</th>\n",
       "      <th>type</th>\n",
       "      <th>region</th>\n",
       "      <th>year_2016</th>\n",
       "      <th>year_2017</th>\n",
       "      <th>year_2018</th>\n",
       "    </tr>\n",
       "  </thead>\n",
       "  <tbody>\n",
       "    <tr>\n",
       "      <th>0</th>\n",
       "      <td>2015-12-27</td>\n",
       "      <td>1.330</td>\n",
       "      <td>64236.620</td>\n",
       "      <td>1036.740</td>\n",
       "      <td>54454.850</td>\n",
       "      <td>48.160</td>\n",
       "      <td>8696.870</td>\n",
       "      <td>8603.620</td>\n",
       "      <td>93.250</td>\n",
       "      <td>0.000</td>\n",
       "      <td>0</td>\n",
       "      <td>Albany</td>\n",
       "      <td>0</td>\n",
       "      <td>0</td>\n",
       "      <td>0</td>\n",
       "    </tr>\n",
       "    <tr>\n",
       "      <th>1</th>\n",
       "      <td>2015-12-20</td>\n",
       "      <td>1.350</td>\n",
       "      <td>54876.980</td>\n",
       "      <td>674.280</td>\n",
       "      <td>44638.810</td>\n",
       "      <td>58.330</td>\n",
       "      <td>9505.560</td>\n",
       "      <td>9408.070</td>\n",
       "      <td>97.490</td>\n",
       "      <td>0.000</td>\n",
       "      <td>0</td>\n",
       "      <td>Albany</td>\n",
       "      <td>0</td>\n",
       "      <td>0</td>\n",
       "      <td>0</td>\n",
       "    </tr>\n",
       "    <tr>\n",
       "      <th>2</th>\n",
       "      <td>2015-12-13</td>\n",
       "      <td>0.930</td>\n",
       "      <td>118220.220</td>\n",
       "      <td>794.700</td>\n",
       "      <td>109149.670</td>\n",
       "      <td>130.500</td>\n",
       "      <td>8145.350</td>\n",
       "      <td>8042.210</td>\n",
       "      <td>103.140</td>\n",
       "      <td>0.000</td>\n",
       "      <td>0</td>\n",
       "      <td>Albany</td>\n",
       "      <td>0</td>\n",
       "      <td>0</td>\n",
       "      <td>0</td>\n",
       "    </tr>\n",
       "    <tr>\n",
       "      <th>3</th>\n",
       "      <td>2015-12-06</td>\n",
       "      <td>1.080</td>\n",
       "      <td>78992.150</td>\n",
       "      <td>1132.000</td>\n",
       "      <td>71976.410</td>\n",
       "      <td>72.580</td>\n",
       "      <td>5811.160</td>\n",
       "      <td>5677.400</td>\n",
       "      <td>133.760</td>\n",
       "      <td>0.000</td>\n",
       "      <td>0</td>\n",
       "      <td>Albany</td>\n",
       "      <td>0</td>\n",
       "      <td>0</td>\n",
       "      <td>0</td>\n",
       "    </tr>\n",
       "    <tr>\n",
       "      <th>4</th>\n",
       "      <td>2015-11-29</td>\n",
       "      <td>1.280</td>\n",
       "      <td>51039.600</td>\n",
       "      <td>941.480</td>\n",
       "      <td>43838.390</td>\n",
       "      <td>75.780</td>\n",
       "      <td>6183.950</td>\n",
       "      <td>5986.260</td>\n",
       "      <td>197.690</td>\n",
       "      <td>0.000</td>\n",
       "      <td>0</td>\n",
       "      <td>Albany</td>\n",
       "      <td>0</td>\n",
       "      <td>0</td>\n",
       "      <td>0</td>\n",
       "    </tr>\n",
       "  </tbody>\n",
       "</table>\n",
       "</div>"
      ],
      "text/plain": [
       "        Date  AveragePrice  Total Volume     4046       4225    4770  Total Bags  Small Bags  Large Bags  XLarge Bags  type  region  year_2016  year_2017  year_2018\n",
       "0 2015-12-27         1.330     64236.620 1036.740  54454.850  48.160    8696.870    8603.620      93.250        0.000     0  Albany          0          0          0\n",
       "1 2015-12-20         1.350     54876.980  674.280  44638.810  58.330    9505.560    9408.070      97.490        0.000     0  Albany          0          0          0\n",
       "2 2015-12-13         0.930    118220.220  794.700 109149.670 130.500    8145.350    8042.210     103.140        0.000     0  Albany          0          0          0\n",
       "3 2015-12-06         1.080     78992.150 1132.000  71976.410  72.580    5811.160    5677.400     133.760        0.000     0  Albany          0          0          0\n",
       "4 2015-11-29         1.280     51039.600  941.480  43838.390  75.780    6183.950    5986.260     197.690        0.000     0  Albany          0          0          0"
      ]
     },
     "execution_count": 224,
     "metadata": {},
     "output_type": "execute_result"
    }
   ],
   "source": [
    "df.head()"
   ]
  },
  {
   "cell_type": "code",
   "execution_count": 225,
   "id": "a680181c",
   "metadata": {},
   "outputs": [],
   "source": [
    "from datetime import datetime"
   ]
  },
  {
   "cell_type": "code",
   "execution_count": 226,
   "id": "ed74211e",
   "metadata": {},
   "outputs": [],
   "source": [
    "df[\"week\"]=df.Date.dt.week\n",
    "df[\"month\"]=df.Date.dt.month"
   ]
  },
  {
   "cell_type": "code",
   "execution_count": 227,
   "id": "021f3a21",
   "metadata": {},
   "outputs": [
    {
     "data": {
      "text/html": [
       "<div>\n",
       "<style scoped>\n",
       "    .dataframe tbody tr th:only-of-type {\n",
       "        vertical-align: middle;\n",
       "    }\n",
       "\n",
       "    .dataframe tbody tr th {\n",
       "        vertical-align: top;\n",
       "    }\n",
       "\n",
       "    .dataframe thead th {\n",
       "        text-align: right;\n",
       "    }\n",
       "</style>\n",
       "<table border=\"1\" class=\"dataframe\">\n",
       "  <thead>\n",
       "    <tr style=\"text-align: right;\">\n",
       "      <th></th>\n",
       "      <th>Date</th>\n",
       "      <th>AveragePrice</th>\n",
       "      <th>Total Volume</th>\n",
       "      <th>4046</th>\n",
       "      <th>4225</th>\n",
       "      <th>4770</th>\n",
       "      <th>Total Bags</th>\n",
       "      <th>Small Bags</th>\n",
       "      <th>Large Bags</th>\n",
       "      <th>XLarge Bags</th>\n",
       "      <th>type</th>\n",
       "      <th>region</th>\n",
       "      <th>year_2016</th>\n",
       "      <th>year_2017</th>\n",
       "      <th>year_2018</th>\n",
       "      <th>week</th>\n",
       "      <th>month</th>\n",
       "    </tr>\n",
       "  </thead>\n",
       "  <tbody>\n",
       "    <tr>\n",
       "      <th>0</th>\n",
       "      <td>2015-12-27</td>\n",
       "      <td>1.330</td>\n",
       "      <td>64236.620</td>\n",
       "      <td>1036.740</td>\n",
       "      <td>54454.850</td>\n",
       "      <td>48.160</td>\n",
       "      <td>8696.870</td>\n",
       "      <td>8603.620</td>\n",
       "      <td>93.250</td>\n",
       "      <td>0.000</td>\n",
       "      <td>0</td>\n",
       "      <td>Albany</td>\n",
       "      <td>0</td>\n",
       "      <td>0</td>\n",
       "      <td>0</td>\n",
       "      <td>52</td>\n",
       "      <td>12</td>\n",
       "    </tr>\n",
       "    <tr>\n",
       "      <th>1</th>\n",
       "      <td>2015-12-20</td>\n",
       "      <td>1.350</td>\n",
       "      <td>54876.980</td>\n",
       "      <td>674.280</td>\n",
       "      <td>44638.810</td>\n",
       "      <td>58.330</td>\n",
       "      <td>9505.560</td>\n",
       "      <td>9408.070</td>\n",
       "      <td>97.490</td>\n",
       "      <td>0.000</td>\n",
       "      <td>0</td>\n",
       "      <td>Albany</td>\n",
       "      <td>0</td>\n",
       "      <td>0</td>\n",
       "      <td>0</td>\n",
       "      <td>51</td>\n",
       "      <td>12</td>\n",
       "    </tr>\n",
       "    <tr>\n",
       "      <th>2</th>\n",
       "      <td>2015-12-13</td>\n",
       "      <td>0.930</td>\n",
       "      <td>118220.220</td>\n",
       "      <td>794.700</td>\n",
       "      <td>109149.670</td>\n",
       "      <td>130.500</td>\n",
       "      <td>8145.350</td>\n",
       "      <td>8042.210</td>\n",
       "      <td>103.140</td>\n",
       "      <td>0.000</td>\n",
       "      <td>0</td>\n",
       "      <td>Albany</td>\n",
       "      <td>0</td>\n",
       "      <td>0</td>\n",
       "      <td>0</td>\n",
       "      <td>50</td>\n",
       "      <td>12</td>\n",
       "    </tr>\n",
       "    <tr>\n",
       "      <th>3</th>\n",
       "      <td>2015-12-06</td>\n",
       "      <td>1.080</td>\n",
       "      <td>78992.150</td>\n",
       "      <td>1132.000</td>\n",
       "      <td>71976.410</td>\n",
       "      <td>72.580</td>\n",
       "      <td>5811.160</td>\n",
       "      <td>5677.400</td>\n",
       "      <td>133.760</td>\n",
       "      <td>0.000</td>\n",
       "      <td>0</td>\n",
       "      <td>Albany</td>\n",
       "      <td>0</td>\n",
       "      <td>0</td>\n",
       "      <td>0</td>\n",
       "      <td>49</td>\n",
       "      <td>12</td>\n",
       "    </tr>\n",
       "    <tr>\n",
       "      <th>4</th>\n",
       "      <td>2015-11-29</td>\n",
       "      <td>1.280</td>\n",
       "      <td>51039.600</td>\n",
       "      <td>941.480</td>\n",
       "      <td>43838.390</td>\n",
       "      <td>75.780</td>\n",
       "      <td>6183.950</td>\n",
       "      <td>5986.260</td>\n",
       "      <td>197.690</td>\n",
       "      <td>0.000</td>\n",
       "      <td>0</td>\n",
       "      <td>Albany</td>\n",
       "      <td>0</td>\n",
       "      <td>0</td>\n",
       "      <td>0</td>\n",
       "      <td>48</td>\n",
       "      <td>11</td>\n",
       "    </tr>\n",
       "  </tbody>\n",
       "</table>\n",
       "</div>"
      ],
      "text/plain": [
       "        Date  AveragePrice  Total Volume     4046       4225    4770  Total Bags  Small Bags  Large Bags  XLarge Bags  type  region  year_2016  year_2017  year_2018  \\\n",
       "0 2015-12-27         1.330     64236.620 1036.740  54454.850  48.160    8696.870    8603.620      93.250        0.000     0  Albany          0          0          0   \n",
       "1 2015-12-20         1.350     54876.980  674.280  44638.810  58.330    9505.560    9408.070      97.490        0.000     0  Albany          0          0          0   \n",
       "2 2015-12-13         0.930    118220.220  794.700 109149.670 130.500    8145.350    8042.210     103.140        0.000     0  Albany          0          0          0   \n",
       "3 2015-12-06         1.080     78992.150 1132.000  71976.410  72.580    5811.160    5677.400     133.760        0.000     0  Albany          0          0          0   \n",
       "4 2015-11-29         1.280     51039.600  941.480  43838.390  75.780    6183.950    5986.260     197.690        0.000     0  Albany          0          0          0   \n",
       "\n",
       "   week  month  \n",
       "0    52     12  \n",
       "1    51     12  \n",
       "2    50     12  \n",
       "3    49     12  \n",
       "4    48     11  "
      ]
     },
     "execution_count": 227,
     "metadata": {},
     "output_type": "execute_result"
    }
   ],
   "source": [
    "df.head()"
   ]
  },
  {
   "cell_type": "markdown",
   "id": "fef9989b",
   "metadata": {},
   "source": [
    "# BASE MODELS"
   ]
  },
  {
   "cell_type": "code",
   "execution_count": 228,
   "id": "66b8fe01",
   "metadata": {},
   "outputs": [],
   "source": [
    "X = df.drop(['type','region','Date'], axis = 1)\n",
    "y = df.type\n",
    "\n",
    "X_train,X_test,y_train,y_test = train_test_split(X,y,random_state = 0)"
   ]
  },
  {
   "cell_type": "code",
   "execution_count": 230,
   "id": "e7aaef50",
   "metadata": {},
   "outputs": [
    {
     "name": "stdout",
     "output_type": "stream",
     "text": [
      "          name  RMSE_TRAIN  RMSE_TEST\n",
      "11    CatBoost       0.032      0.064\n",
      "10    LightGBM       0.040      0.077\n",
      "6           RF       0.028      0.077\n",
      "9      XGBoost       0.017      0.085\n",
      "8          GBM       0.100      0.114\n",
      "5         CART       0.000      0.116\n",
      "4          KNN       0.103      0.132\n",
      "7          SVR       0.242      0.245\n",
      "0           LR       0.361      0.365\n",
      "1        Ridge       0.361      0.365\n",
      "2        Lasso       0.438      0.443\n",
      "3   ElasticNet       0.438      0.443\n"
     ]
    }
   ],
   "source": [
    "def all_models(X, y, test_size=0.2, random_state=12345, classification=True):\n",
    "    from sklearn.metrics import accuracy_score, precision_score, recall_score, f1_score, \\\n",
    "        roc_auc_score, confusion_matrix, classification_report, plot_roc_curve, mean_squared_error\n",
    "\n",
    "    # Tum Base Modeller (Classification)\n",
    "    from sklearn.linear_model import LogisticRegression\n",
    "    from sklearn.neighbors import KNeighborsClassifier\n",
    "    from sklearn.tree import DecisionTreeClassifier\n",
    "    from sklearn.ensemble import RandomForestClassifier\n",
    "    from sklearn.ensemble import GradientBoostingClassifier\n",
    "    from catboost import CatBoostClassifier\n",
    "    from lightgbm import LGBMClassifier\n",
    "    from sklearn.svm import SVC\n",
    "\n",
    "    # Tum Base Modeller (Regression)\n",
    "    from catboost import CatBoostRegressor\n",
    "    from lightgbm import LGBMRegressor\n",
    "    from sklearn.ensemble import RandomForestRegressor, GradientBoostingRegressor\n",
    "    from sklearn.linear_model import LinearRegression, Ridge, Lasso, ElasticNet\n",
    "    from sklearn.neighbors import KNeighborsRegressor\n",
    "    from sklearn.svm import SVR\n",
    "    from sklearn.tree import DecisionTreeRegressor\n",
    "    from xgboost import XGBRegressor\n",
    "\n",
    "    X_train, X_test, y_train, y_test = train_test_split(X, y, test_size=0.20, random_state=random_state)\n",
    "    all_models = []\n",
    "\n",
    "    if classification:\n",
    "        models = [('LR', LogisticRegression(random_state=random_state)),\n",
    "                  ('KNN', KNeighborsClassifier()),\n",
    "                  ('CART', DecisionTreeClassifier(random_state=random_state)),\n",
    "                  ('RF', RandomForestClassifier(random_state=random_state)),\n",
    "                  ('SVM', SVC(gamma='auto', random_state=random_state)),\n",
    "                  ('XGB', GradientBoostingClassifier(random_state=random_state)),\n",
    "                  (\"LightGBM\", LGBMClassifier(random_state=random_state)),\n",
    "                  (\"CatBoost\", CatBoostClassifier(verbose=False, random_state=random_state))]\n",
    "\n",
    "        for name, model in models:\n",
    "            model.fit(X_train, y_train)\n",
    "            y_pred_train = model.predict(X_train)\n",
    "            y_pred_test = model.predict(X_test)\n",
    "            acc_train = accuracy_score(y_train, y_pred_train)\n",
    "            acc_test = accuracy_score(y_test, y_pred_test)\n",
    "            values = dict(name=name, acc_train=acc_train, acc_test=acc_test)\n",
    "            all_models.append(values)\n",
    "\n",
    "        sort_method = False\n",
    "    else:\n",
    "        models = [('LR', LinearRegression()),\n",
    "                  (\"Ridge\", Ridge()),\n",
    "                  (\"Lasso\", Lasso()),\n",
    "                  (\"ElasticNet\", ElasticNet()),\n",
    "                  ('KNN', KNeighborsRegressor()),\n",
    "                  ('CART', DecisionTreeRegressor()),\n",
    "                  ('RF', RandomForestRegressor()),\n",
    "                  ('SVR', SVR()),\n",
    "                  ('GBM', GradientBoostingRegressor()),\n",
    "                  (\"XGBoost\", XGBRegressor()),\n",
    "                  (\"LightGBM\", LGBMRegressor()),\n",
    "                  (\"CatBoost\", CatBoostRegressor(verbose=False))]\n",
    "\n",
    "        for name, model in models:\n",
    "            model.fit(X_train, y_train)\n",
    "            y_pred_test = model.predict(X_test)\n",
    "            y_pred_train = model.predict(X_train)\n",
    "            rmse_test = np.sqrt(mean_squared_error(y_test, y_pred_test))\n",
    "            rmse_train = np.sqrt(mean_squared_error(y_train, y_pred_train))\n",
    "            values = dict(name=name, RMSE_TRAIN=rmse_train, RMSE_TEST=rmse_test)\n",
    "            all_models.append(values)\n",
    "\n",
    "        sort_method = True\n",
    "    all_models_df = pd.DataFrame(all_models)\n",
    "    all_models_df = all_models_df.sort_values(all_models_df.columns[2], ascending=sort_method)\n",
    "    print(all_models_df)\n",
    "    return all_models_df\n",
    "\n",
    "\n",
    "all_models = all_models(X, y, test_size=0.2, random_state=46, classification=False)"
   ]
  },
  {
   "cell_type": "code",
   "execution_count": 231,
   "id": "6e9bbfbd",
   "metadata": {},
   "outputs": [
    {
     "name": "stdout",
     "output_type": "stream",
     "text": [
      "RF Tuned Model Train RMSE: 0.055720706421820775\n",
      "RF Tuned Model Test RMSE: 0.08470177093623289\n"
     ]
    }
   ],
   "source": [
    "##########################\n",
    "# RANDOM FORESTS MODEL TUNING\n",
    "##########################\n",
    "\n",
    "# Tuning için hazırlanan parametreler. Tuning zaman aldığı için çıkan parametre değerlerini girdim.\n",
    "rf_params = {\"max_depth\": [4, 5, 7, 10],\n",
    "             \"max_features\": [4, 5, 6, 8, 10, 12],\n",
    "             \"n_estimators\": [80, 100, 150, 250, 400, 500],\n",
    "             \"min_samples_split\": [8, 10, 12, 15]}\n",
    "\n",
    "# rf_cv_model = GridSearchCV(rf_model, rf_params, cv = 10, n_jobs = -1).fit(X_train , y_train)\n",
    "# rf_cv_model.best_params_\n",
    "\n",
    "best_params = {'max_depth': 10,\n",
    "               'max_features': 8,\n",
    "               'min_samples_split': 10,\n",
    "               'n_estimators': 80}\n",
    "\n",
    "rf_model = RandomForestRegressor(random_state=42).fit(X_train, y_train)\n",
    "\n",
    "# RANDOM FORESTS TUNED MODEL\n",
    "rf_tuned = RandomForestRegressor(max_depth=10, max_features=4, n_estimators=150,\n",
    "                                 min_samples_split=8, random_state=42).fit(X_train, y_train)\n",
    "\n",
    "# TUNED MODEL TRAIN HATASI\n",
    "y_pred = rf_tuned.predict(X_train)\n",
    "\n",
    "print(\"RF Tuned Model Train RMSE:\", np.sqrt(mean_squared_error(y_train, y_pred)))\n",
    "\n",
    "##########################\n",
    "# TUNED MODEL TEST HATASI\n",
    "##########################\n",
    "\n",
    "y_pred = rf_tuned.predict(X_test)\n",
    "print(\"RF Tuned Model Test RMSE:\", np.sqrt(mean_squared_error(y_test, y_pred)))"
   ]
  },
  {
   "cell_type": "code",
   "execution_count": 232,
   "id": "0056d5e7",
   "metadata": {},
   "outputs": [
    {
     "data": {
      "image/png": "[encoded data removed]",
      "text/plain": [
       "<Figure size 720x720 with 1 Axes>"
      ]
     },
     "metadata": {
      "needs_background": "light"
     },
     "output_type": "display_data"
    }
   ],
   "source": [
    "#######################################\n",
    "# FEATURE IMPORTANCE\n",
    "#######################################\n",
    "\n",
    "def plot_importance(model, features, num=len(X), save=False):\n",
    "    import pandas as pd\n",
    "    import seaborn as sns\n",
    "    import matplotlib.pyplot as plt\n",
    "    feature_imp = pd.DataFrame({'Value': model.feature_importances_, 'Feature': features.columns})\n",
    "    plt.figure(figsize=(10, 10))\n",
    "    sns.set(font_scale=1)\n",
    "    sns.barplot(x=\"Value\", y=\"Feature\", data=feature_imp.sort_values(by=\"Value\",\n",
    "                                                                     ascending=False)[0:num])\n",
    "    plt.title('Features')\n",
    "    plt.tight_layout()\n",
    "    plt.show()\n",
    "    if save:\n",
    "        plt.savefig('importances.png')\n",
    "\n",
    "plot_importance(rf_tuned, X_train)"
   ]
  },
  {
   "cell_type": "code",
   "execution_count": 233,
   "id": "59c3083e",
   "metadata": {},
   "outputs": [],
   "source": [
    "# Tuned edilmiş model nesnesinin kaydedilmesi\n",
    "import pickle\n",
    "pickle.dump(rf_tuned, open(\"rf_final_model.pkl\", 'wb'))\n",
    "\n",
    "# Tuned edilmiş model nesnesinin yüklenmesi\n",
    "df_prep = pickle.load(open('rf_final_model.pkl', 'rb'))"
   ]
  },
  {
   "cell_type": "markdown",
   "id": "d44c9ad7",
   "metadata": {},
   "source": [
    "Çalışmamı okumaya ayırdığınız zaman için çok teşekkür ederim. Umarım sizin için ilginç ve biraz yardımcı olmuştur."
   ]
  }
 ],
 "metadata": {
  "kernelspec": {
   "display_name": "Python 3",
   "language": "python",
   "name": "python3"
  },
  "language_info": {
   "codemirror_mode": {
    "name": "ipython",
    "version": 3
   },
   "file_extension": ".py",
   "mimetype": "text/x-python",
   "name": "python",
   "nbconvert_exporter": "python",
   "pygments_lexer": "ipython3",
   "version": "3.8.8"
  }
 },
 "nbformat": 4,
 "nbformat_minor": 5
}
